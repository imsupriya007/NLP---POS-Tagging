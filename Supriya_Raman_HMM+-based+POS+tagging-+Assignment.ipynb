{
 "cells": [
  {
   "cell_type": "markdown",
   "metadata": {},
   "source": [
    "<font color=blue>\n",
    "Supriya Raman<br>\n",
    "HMMs and Viterbi Algorithm for POS Tagging Assignment <br>\n",
    "6th April, 2020\n",
    "    </font>"
   ]
  },
  {
   "cell_type": "markdown",
   "metadata": {},
   "source": [
    "# <font color=navy> <u> HMMs and Viterbi Algorithm for POS Tagging Assignment </font>\n",
    "## <font color=navy> POS tagging using modified Viterbi </font>\n",
    "\n",
    "#### <font color=navy> Problem Statement: </font> <br>\n",
    "<font color=brown>\n",
    "Using the Penn Treebank Universal training set corpus, build a Viterbi PoS tagger, then enhance it to solve the problem of unknown words. </font>\n",
    "\n",
    "#### <font color=navy> Goals: </font> <br>\n",
    "The below model is developed to perform POS tagging using modified Viterbi: \n",
    "- To write the Vanilla Viterbi algorithm for assigning POS tags (i.e. without dealing with unknown words) \n",
    "- To solve the problem of unknown words using at least two techniques. \n",
    "- To compare the tagging accuracy after making these modifications with the vanilla Viterbi algorithm.\n",
    "- To list down at least three cases from the sample test file (i.e. unknown word-tag pairs) which were incorrectly tagged by the original Viterbi POS tagger and got corrected after your modifications."
   ]
  },
  {
   "cell_type": "markdown",
   "metadata": {},
   "source": [
    "## <font color=brown> Table of Contents </font>\n",
    "<a href='#Step 1'> Step 1: Data Preparation </a> <br>\n",
    "<a href='#Step 2'> Step 2: Build the vanilla Viterbi based POS tagger </a> <br>\n",
    "<a href='#Step 3'> Step 3: Solve the problem of unknown words </a> <br>\n",
    "<a href='#Step 4'> Step 4: Compare the tagging accuracies of the modifications with the vanilla Viterbi algorithm </a> <br>\n",
    "<a href='#Step 5'> Step 5: List down cases incorrectly tagged by original POS tagger and got corrected by modifications </a> <br>"
   ]
  },
  {
   "cell_type": "markdown",
   "metadata": {},
   "source": [
    "## <font color=brown> Step 1: Data Preparation <a id='Step 1'></a> </font>\n",
    "Importing all required Python Libraries and Reading Treebank tagged sentences"
   ]
  },
  {
   "cell_type": "code",
   "execution_count": 1,
   "metadata": {
    "collapsed": true
   },
   "outputs": [],
   "source": [
    "#Importing libraries\n",
    "import nltk, re\n",
    "import numpy as np\n",
    "import pandas as pd\n",
    "import requests\n",
    "import matplotlib.pyplot as plt\n",
    "import seaborn as sns\n",
    "import random\n",
    "from sklearn.model_selection import train_test_split\n",
    "from nltk.tokenize import word_tokenize\n",
    "import pprint, time"
   ]
  },
  {
   "cell_type": "code",
   "execution_count": 2,
   "metadata": {},
   "outputs": [
    {
     "data": {
      "text/plain": [
       "[[('Pierre', 'NOUN'),\n",
       "  ('Vinken', 'NOUN'),\n",
       "  (',', '.'),\n",
       "  ('61', 'NUM'),\n",
       "  ('years', 'NOUN'),\n",
       "  ('old', 'ADJ'),\n",
       "  (',', '.'),\n",
       "  ('will', 'VERB'),\n",
       "  ('join', 'VERB'),\n",
       "  ('the', 'DET'),\n",
       "  ('board', 'NOUN'),\n",
       "  ('as', 'ADP'),\n",
       "  ('a', 'DET'),\n",
       "  ('nonexecutive', 'ADJ'),\n",
       "  ('director', 'NOUN'),\n",
       "  ('Nov.', 'NOUN'),\n",
       "  ('29', 'NUM'),\n",
       "  ('.', '.')],\n",
       " [('Mr.', 'NOUN'),\n",
       "  ('Vinken', 'NOUN'),\n",
       "  ('is', 'VERB'),\n",
       "  ('chairman', 'NOUN'),\n",
       "  ('of', 'ADP'),\n",
       "  ('Elsevier', 'NOUN'),\n",
       "  ('N.V.', 'NOUN'),\n",
       "  (',', '.'),\n",
       "  ('the', 'DET'),\n",
       "  ('Dutch', 'NOUN'),\n",
       "  ('publishing', 'VERB'),\n",
       "  ('group', 'NOUN'),\n",
       "  ('.', '.')]]"
      ]
     },
     "execution_count": 2,
     "metadata": {},
     "output_type": "execute_result"
    }
   ],
   "source": [
    "# reading the Treebank tagged sentences\n",
    "nltk_data = list(nltk.corpus.treebank.tagged_sents(tagset='universal'))\n",
    "nltk_data[:2]"
   ]
  },
  {
   "cell_type": "code",
   "execution_count": 3,
   "metadata": {},
   "outputs": [
    {
     "name": "stdout",
     "output_type": "stream",
     "text": [
      "Training Set Length - 3718\n",
      "Training Set Length - 196\n",
      "----------------------------------------------------------------------------------------------------\n",
      "Training Dataset  -\n",
      "\n",
      "[[('Rep.', 'NOUN'), ('James', 'NOUN'), ('Traficant', 'NOUN'), ('-LRB-', '.'), ('D.', 'NOUN'), (',', '.'), ('Ohio', 'NOUN'), ('-RRB-', '.'), (',', '.'), ('said', 'VERB'), ('0', 'X'), ('the', 'DET'), ('amendment', 'NOUN'), (',', '.'), ('which', 'DET'), ('*T*-19', 'X'), ('passed', 'VERB'), ('271-147', 'NUM'), (',', '.'), ('would', 'VERB'), ('``', '.'), ('let', 'VERB'), ('the', 'DET'), ('American', 'ADJ'), ('worker', 'NOUN'), ('know', 'VERB'), ('that', 'ADP'), ('we', 'PRON'), ('consider', 'VERB'), ('them', 'PRON'), ('occasionally', 'ADV'), ('.', '.'), (\"''\", '.')], [('The', 'DET'), ('drug', 'NOUN'), ('was', 'VERB'), ('approved', 'VERB'), ('*-1', 'X'), ('by', 'ADP'), ('the', 'DET'), ('Food', 'NOUN'), ('and', 'CONJ'), ('Drug', 'NOUN'), ('Administration', 'NOUN'), ('and', 'CONJ'), ('marketed', 'VERB'), ('*-1', 'X'), ('by', 'ADP'), ('some', 'DET'), ('300', 'NUM'), ('pharmaceutical', 'ADJ'), ('companies', 'NOUN'), (',', '.'), ('often', 'ADV'), ('under', 'ADP'), ('generic', 'ADJ'), ('labels', 'NOUN'), ('.', '.')], [('In', 'ADP'), ('New', 'NOUN'), ('York', 'NOUN'), ('Stock', 'NOUN'), ('Exchange', 'NOUN'), ('composite', 'ADJ'), ('trading', 'NOUN'), ('yesterday', 'NOUN'), (',', '.'), ('Intelogic', 'NOUN'), ('shares', 'NOUN'), ('rose', 'VERB'), ('37.5', 'NUM'), ('cents', 'NOUN'), ('*-1', 'X'), ('to', 'PRT'), ('close', 'VERB'), ('at', 'ADP'), ('$', '.'), ('2.75', 'NUM'), ('*U*', 'X'), ('.', '.')], [('So', 'ADP'), ('both', 'DET'), ('sides', 'NOUN'), ('accepted', 'VERB'), ('the', 'DET'), ('compromise', 'NOUN'), (',', '.'), ('which', 'DET'), ('*T*-259', 'X'), ('would', 'VERB'), ('lead', 'VERB'), ('to', 'PRT'), ('the', 'DET'), ('first', 'ADJ'), ('lifting', 'NOUN'), ('of', 'ADP'), ('the', 'DET'), ('minimum', 'ADJ'), ('wage', 'NOUN'), ('since', 'ADP'), ('a', 'DET'), ('four-year', 'ADJ'), ('law', 'NOUN'), ('was', 'VERB'), ('enacted', 'VERB'), ('*-163', 'X'), ('in', 'ADP'), ('1977', 'NUM'), (',', '.'), ('*-163', 'X'), ('raising', 'VERB'), ('the', 'DET'), ('wage', 'NOUN'), ('to', 'PRT'), ('$', '.'), ('3.35', 'NUM'), ('*U*', 'X'), ('an', 'DET'), ('hour', 'NOUN'), ('from', 'ADP'), ('$', '.'), ('2.65', 'NUM'), ('*U*', 'X'), ('.', '.')], [('They', 'PRON'), ('will', 'VERB'), ('remain', 'VERB'), ('on', 'ADP'), ('a', 'DET'), ('lower-priority', 'ADJ'), ('list', 'NOUN'), ('that', 'DET'), ('*T*-27', 'X'), ('includes', 'VERB'), ('17', 'NUM'), ('other', 'ADJ'), ('countries', 'NOUN'), ('.', '.')]]\n"
     ]
    }
   ],
   "source": [
    "# Splitting into train and test\n",
    "random.seed(1234)\n",
    "train_set, test_set = train_test_split(nltk_data,test_size=0.05)\n",
    "\n",
    "print(\"Training Set Length -\", len(train_set))\n",
    "print(\"Training Set Length -\", len(test_set))\n",
    "print(\"-\" * 100)\n",
    "print(\"Training Dataset  -\\n\")\n",
    "print(train_set[:5])"
   ]
  },
  {
   "cell_type": "code",
   "execution_count": 4,
   "metadata": {},
   "outputs": [
    {
     "name": "stdout",
     "output_type": "stream",
     "text": [
      "Count of Tagged Words in Training Set: 95673\n"
     ]
    }
   ],
   "source": [
    "# Getting list of tagged words\n",
    "train_tagged_words = [tup for sent in train_set for tup in sent]\n",
    "print(\"Count of Tagged Words in Training Set: \" + str(len(train_tagged_words)))"
   ]
  },
  {
   "cell_type": "code",
   "execution_count": 5,
   "metadata": {},
   "outputs": [
    {
     "data": {
      "text/plain": [
       "[('Rep.', 'NOUN'),\n",
       " ('James', 'NOUN'),\n",
       " ('Traficant', 'NOUN'),\n",
       " ('-LRB-', '.'),\n",
       " ('D.', 'NOUN'),\n",
       " (',', '.'),\n",
       " ('Ohio', 'NOUN'),\n",
       " ('-RRB-', '.'),\n",
       " (',', '.'),\n",
       " ('said', 'VERB')]"
      ]
     },
     "execution_count": 5,
     "metadata": {},
     "output_type": "execute_result"
    }
   ],
   "source": [
    "# Let's have a look at the tagged words in the training set\n",
    "train_tagged_words[:10]"
   ]
  },
  {
   "cell_type": "code",
   "execution_count": 6,
   "metadata": {},
   "outputs": [
    {
     "data": {
      "text/plain": [
       "['Rep.',\n",
       " 'James',\n",
       " 'Traficant',\n",
       " '-LRB-',\n",
       " 'D.',\n",
       " ',',\n",
       " 'Ohio',\n",
       " '-RRB-',\n",
       " ',',\n",
       " 'said']"
      ]
     },
     "execution_count": 6,
     "metadata": {},
     "output_type": "execute_result"
    }
   ],
   "source": [
    "# tokens in the train set - train_tagged_words\n",
    "train_data_tokens = [pair[0] for pair in train_tagged_words]\n",
    "train_data_tokens[:10]"
   ]
  },
  {
   "cell_type": "code",
   "execution_count": 7,
   "metadata": {},
   "outputs": [
    {
     "data": {
      "text/plain": [
       "['NOUN', 'NOUN', 'NOUN', '.', 'NOUN', '.', 'NOUN', '.', '.', 'VERB']"
      ]
     },
     "execution_count": 7,
     "metadata": {},
     "output_type": "execute_result"
    }
   ],
   "source": [
    "# POS tags for the tokens in the train set -\n",
    "train_data_pos_tags = [pair[1] for pair in train_tagged_words]\n",
    "train_data_pos_tags[:10]"
   ]
  },
  {
   "cell_type": "code",
   "execution_count": 8,
   "metadata": {
    "collapsed": true
   },
   "outputs": [],
   "source": [
    "# building the train vocabulary to a set\n",
    "training_vocabulary_set = set(train_data_tokens)"
   ]
  },
  {
   "cell_type": "code",
   "execution_count": 9,
   "metadata": {},
   "outputs": [
    {
     "name": "stdout",
     "output_type": "stream",
     "text": [
      "{'DET', 'PRT', 'NUM', 'NOUN', 'ADP', 'PRON', 'X', 'ADV', '.', 'CONJ', 'ADJ', 'VERB'}\n"
     ]
    }
   ],
   "source": [
    "# building the POS tags to a set\n",
    "training_pos_tag_set = set(train_data_pos_tags)\n",
    "print(training_pos_tag_set)"
   ]
  },
  {
   "cell_type": "code",
   "execution_count": 10,
   "metadata": {},
   "outputs": [
    {
     "name": "stdout",
     "output_type": "stream",
     "text": [
      "Length Of: \n",
      "-  Vocabulary: 12067 \n",
      "-  POS Tags: 12\n"
     ]
    }
   ],
   "source": [
    "# Length of POS Tags and Vocabulary\n",
    "print(\"Length Of: \\n-  Vocabulary: {} \\n-  POS Tags: {}\".format(len(training_vocabulary_set), len(training_pos_tag_set)))"
   ]
  },
  {
   "cell_type": "markdown",
   "metadata": {},
   "source": [
    "<b> POS Tagging algorithm using Hidden Markov Model (HMM)</b>\n",
    "We'll use the HMM algorithm to tag the words. Given a sequence of words to be tagged, the task is to assign the most probable tag to the word. In other words, to every word w, assign the tag t that maximises the likelihood P(t/w).\n",
    "\n",
    "Since P(t/w) = P(w/t). P(t) / P(w), after ignoring P(w), we have to compute P(w/t) and P(t).\n",
    "Now:\n",
    "\n",
    "- P(w/t): is the emission probability of a given word for a given tag. This can be computed based on the fraction of given word for given tag to the total count of that tag, ie: P(w/t) = count(w, t) / count(t).\n",
    "\n",
    "- P(t): is the probability of tag (also transition probability), and in a tagging task, we assume that a tag will depend only on the previous tag (Markov order 1 assumption). In other words, the probability of say a tag being NN will depend only on the previous tag t(n-1). So for e.g. if t(n-1) is a JJ, then t(n) is likely to be an NN since adjectives often precede a noun (blue coat, tall building etc.)."
   ]
  },
  {
   "cell_type": "code",
   "execution_count": 11,
   "metadata": {
    "collapsed": true
   },
   "outputs": [],
   "source": [
    "# Emission Probabilities - Function to compute emission probabilties for a given word\n",
    "# computing P(w/t) and storing in [Tags x Vocabulary] matrix. This is a matrix with dimension\n",
    "# of len(training_pos_tag_set) X en(training_vocabulary_set)\n",
    "len_pos_tags = len(training_pos_tag_set)\n",
    "len_vocab = len(training_vocabulary_set)\n",
    "word_given_tag = np.zeros((len_pos_tags, len_vocab))"
   ]
  },
  {
   "cell_type": "code",
   "execution_count": 12,
   "metadata": {
    "collapsed": true
   },
   "outputs": [],
   "source": [
    "# compute word given tag: Emission Probability\n",
    "def word_given_tag(word, tag, train_bag = train_tagged_words):\n",
    "    tag_list = [pair for pair in train_bag if pair[1]==tag]\n",
    "    count_tag = len(tag_list)\n",
    "    w_given_tag_list = [pair[0] for pair in tag_list if pair[0]==word]\n",
    "    count_w_given_tag = len(w_given_tag_list)\n",
    "    \n",
    "    return (count_w_given_tag, count_tag)"
   ]
  },
  {
   "cell_type": "code",
   "execution_count": 13,
   "metadata": {
    "collapsed": true
   },
   "outputs": [],
   "source": [
    "# Transition Probabilities - Function to compute transition probabilties for a given tag and previous tag\n",
    "# compute tag given tag: tag2(t2) given tag1 (t1), i.e. Transition Probability\n",
    "\n",
    "def t2_given_t1(t2, t1, train_bag = train_tagged_words):\n",
    "    tags = [pair[1] for pair in train_bag]\n",
    "    count_t1 = len([t for t in tags if t==t1])\n",
    "    count_t2_t1 = 0\n",
    "    for index in range(len(tags)-1):\n",
    "        if tags[index]==t1 and tags[index+1] == t2:\n",
    "            count_t2_t1 += 1\n",
    "    return (count_t2_t1, count_t1)"
   ]
  },
  {
   "cell_type": "code",
   "execution_count": 14,
   "metadata": {},
   "outputs": [
    {
     "data": {
      "text/plain": [
       "(5322, 8302)"
      ]
     },
     "execution_count": 14,
     "metadata": {},
     "output_type": "execute_result"
    }
   ],
   "source": [
    "# Testing the above method for Transition Probability\n",
    "t2_given_t1('NOUN','DET')"
   ]
  },
  {
   "cell_type": "code",
   "execution_count": 15,
   "metadata": {
    "collapsed": true
   },
   "outputs": [],
   "source": [
    "# creating t x t transition matrix of tags\n",
    "# each column is t2, each row is t1\n",
    "# thus M(i, j) represents P(tj given ti)\n",
    "\n",
    "tags_matrix = np.zeros((len_pos_tags, len_pos_tags), dtype='float32')\n",
    "for i, t1 in enumerate(list(training_pos_tag_set)):\n",
    "    for j, t2 in enumerate(list(training_pos_tag_set)): \n",
    "        tags_matrix[i, j] = t2_given_t1(t2, t1)[0]/t2_given_t1(t2, t1)[1]"
   ]
  },
  {
   "cell_type": "code",
   "execution_count": 16,
   "metadata": {},
   "outputs": [
    {
     "data": {
      "text/plain": [
       "array([[  5.42038074e-03,   2.40905807e-04,   2.21633334e-02,\n",
       "          6.41050339e-01,   8.91351514e-03,   3.49313417e-03,\n",
       "          4.57721017e-02,   1.24066491e-02,   1.81883890e-02,\n",
       "          4.81811614e-04,   2.02240422e-01,   3.96290049e-02],\n",
       "       [  1.00587852e-01,   1.95950363e-03,   5.74787706e-02,\n",
       "          2.47224033e-01,   2.02482045e-02,   1.69823635e-02,\n",
       "          1.40431095e-02,   1.04506854e-02,   4.31090780e-02,\n",
       "          2.28608749e-03,   8.39320719e-02,   4.01698232e-01],\n",
       "       [  3.26312659e-03,   2.75882520e-02,   1.84811622e-01,\n",
       "          3.52714330e-01,   3.50044481e-02,   1.48323935e-03,\n",
       "          2.09136754e-01,   2.37318315e-03,   1.18362501e-01,\n",
       "          1.36458026e-02,   3.35212089e-02,   1.80955213e-02],\n",
       "       [  1.33978957e-02,   4.39072326e-02,   9.24746040e-03,\n",
       "          2.64171541e-01,   1.77230865e-01,   4.80576698e-03,\n",
       "          2.88710091e-02,   1.71114430e-02,   2.39851460e-01,\n",
       "          4.24873494e-02,   1.20508242e-02,   1.46867156e-01],\n",
       "       [  3.24667037e-01,   1.49174209e-03,   6.22269586e-02,\n",
       "          3.22003186e-01,   1.69419292e-02,   6.91529065e-02,\n",
       "          3.49493884e-02,   1.32125737e-02,   3.88918482e-02,\n",
       "          7.45871046e-04,   1.07298881e-01,   8.41768738e-03],\n",
       "       [  9.62278713e-03,   1.23171667e-02,   7.69822951e-03,\n",
       "          2.10161656e-01,   2.23248657e-02,   7.31331808e-03,\n",
       "          9.27636623e-02,   3.50269452e-02,   4.00307924e-02,\n",
       "          5.38876047e-03,   7.46728256e-02,   4.82678980e-01],\n",
       "       [  5.43772914e-02,   1.84659541e-01,   2.87035550e-03,\n",
       "          6.26694337e-02,   1.44155636e-01,   5.51746115e-02,\n",
       "          7.52670988e-02,   2.61521284e-02,   1.63131878e-01,\n",
       "          1.02057084e-02,   1.70626696e-02,   2.04273641e-01],\n",
       "       [  6.93102330e-02,   1.49950013e-02,   3.19893360e-02,\n",
       "          3.09896693e-02,   1.19293571e-01,   1.49950013e-02,\n",
       "          2.36587804e-02,   7.79740065e-02,   1.32622465e-01,\n",
       "          6.99766725e-03,   1.29956678e-01,   3.47217590e-01],\n",
       "       [  1.73830941e-01,   2.51798565e-03,   8.10251832e-02,\n",
       "          2.22751796e-01,   9.10971239e-02,   6.55575544e-02,\n",
       "          2.67985612e-02,   5.18884882e-02,   9.32553932e-02,\n",
       "          5.83633110e-02,   4.46043164e-02,   8.82194266e-02],\n",
       "       [  1.19534887e-01,   5.11627924e-03,   4.23255824e-02,\n",
       "          3.47906977e-01,   5.39534874e-02,   5.90697676e-02,\n",
       "          7.44186062e-03,   5.39534874e-02,   3.58139537e-02,\n",
       "          4.65116289e-04,   1.18604653e-01,   1.55813947e-01],\n",
       "       [  4.94071143e-03,   1.10342558e-02,   2.09156778e-02,\n",
       "          6.98451936e-01,   7.82279298e-02,   6.58761535e-04,\n",
       "          2.10803691e-02,   4.94071143e-03,   6.58761561e-02,\n",
       "          1.64690390e-02,   6.58761561e-02,   1.15283271e-02],\n",
       "       [  1.34301692e-01,   3.10703740e-02,   2.30697524e-02,\n",
       "          1.10455178e-01,   9.16576013e-02,   3.58086079e-02,\n",
       "          2.17181921e-01,   8.17150846e-02,   3.46434675e-02,\n",
       "          5.43731544e-03,   6.54808134e-02,   1.69178188e-01]], dtype=float32)"
      ]
     },
     "execution_count": 16,
     "metadata": {},
     "output_type": "execute_result"
    }
   ],
   "source": [
    "tags_matrix"
   ]
  },
  {
   "cell_type": "code",
   "execution_count": 17,
   "metadata": {
    "collapsed": true
   },
   "outputs": [],
   "source": [
    "# convert the matrix to a df for better readability\n",
    "tags_df = pd.DataFrame(tags_matrix, columns = list(training_pos_tag_set), index=list(training_pos_tag_set))"
   ]
  },
  {
   "cell_type": "code",
   "execution_count": 18,
   "metadata": {},
   "outputs": [
    {
     "data": {
      "text/html": [
       "<div>\n",
       "<style>\n",
       "    .dataframe thead tr:only-child th {\n",
       "        text-align: right;\n",
       "    }\n",
       "\n",
       "    .dataframe thead th {\n",
       "        text-align: left;\n",
       "    }\n",
       "\n",
       "    .dataframe tbody tr th {\n",
       "        vertical-align: top;\n",
       "    }\n",
       "</style>\n",
       "<table border=\"1\" class=\"dataframe\">\n",
       "  <thead>\n",
       "    <tr style=\"text-align: right;\">\n",
       "      <th></th>\n",
       "      <th>DET</th>\n",
       "      <th>PRT</th>\n",
       "      <th>NUM</th>\n",
       "      <th>NOUN</th>\n",
       "      <th>ADP</th>\n",
       "      <th>PRON</th>\n",
       "      <th>X</th>\n",
       "      <th>ADV</th>\n",
       "      <th>.</th>\n",
       "      <th>CONJ</th>\n",
       "      <th>ADJ</th>\n",
       "      <th>VERB</th>\n",
       "    </tr>\n",
       "  </thead>\n",
       "  <tbody>\n",
       "    <tr>\n",
       "      <th>DET</th>\n",
       "      <td>0.005420</td>\n",
       "      <td>0.000241</td>\n",
       "      <td>0.022163</td>\n",
       "      <td>0.641050</td>\n",
       "      <td>0.008914</td>\n",
       "      <td>0.003493</td>\n",
       "      <td>0.045772</td>\n",
       "      <td>0.012407</td>\n",
       "      <td>0.018188</td>\n",
       "      <td>0.000482</td>\n",
       "      <td>0.202240</td>\n",
       "      <td>0.039629</td>\n",
       "    </tr>\n",
       "    <tr>\n",
       "      <th>PRT</th>\n",
       "      <td>0.100588</td>\n",
       "      <td>0.001960</td>\n",
       "      <td>0.057479</td>\n",
       "      <td>0.247224</td>\n",
       "      <td>0.020248</td>\n",
       "      <td>0.016982</td>\n",
       "      <td>0.014043</td>\n",
       "      <td>0.010451</td>\n",
       "      <td>0.043109</td>\n",
       "      <td>0.002286</td>\n",
       "      <td>0.083932</td>\n",
       "      <td>0.401698</td>\n",
       "    </tr>\n",
       "    <tr>\n",
       "      <th>NUM</th>\n",
       "      <td>0.003263</td>\n",
       "      <td>0.027588</td>\n",
       "      <td>0.184812</td>\n",
       "      <td>0.352714</td>\n",
       "      <td>0.035004</td>\n",
       "      <td>0.001483</td>\n",
       "      <td>0.209137</td>\n",
       "      <td>0.002373</td>\n",
       "      <td>0.118363</td>\n",
       "      <td>0.013646</td>\n",
       "      <td>0.033521</td>\n",
       "      <td>0.018096</td>\n",
       "    </tr>\n",
       "    <tr>\n",
       "      <th>NOUN</th>\n",
       "      <td>0.013398</td>\n",
       "      <td>0.043907</td>\n",
       "      <td>0.009247</td>\n",
       "      <td>0.264172</td>\n",
       "      <td>0.177231</td>\n",
       "      <td>0.004806</td>\n",
       "      <td>0.028871</td>\n",
       "      <td>0.017111</td>\n",
       "      <td>0.239851</td>\n",
       "      <td>0.042487</td>\n",
       "      <td>0.012051</td>\n",
       "      <td>0.146867</td>\n",
       "    </tr>\n",
       "    <tr>\n",
       "      <th>ADP</th>\n",
       "      <td>0.324667</td>\n",
       "      <td>0.001492</td>\n",
       "      <td>0.062227</td>\n",
       "      <td>0.322003</td>\n",
       "      <td>0.016942</td>\n",
       "      <td>0.069153</td>\n",
       "      <td>0.034949</td>\n",
       "      <td>0.013213</td>\n",
       "      <td>0.038892</td>\n",
       "      <td>0.000746</td>\n",
       "      <td>0.107299</td>\n",
       "      <td>0.008418</td>\n",
       "    </tr>\n",
       "    <tr>\n",
       "      <th>PRON</th>\n",
       "      <td>0.009623</td>\n",
       "      <td>0.012317</td>\n",
       "      <td>0.007698</td>\n",
       "      <td>0.210162</td>\n",
       "      <td>0.022325</td>\n",
       "      <td>0.007313</td>\n",
       "      <td>0.092764</td>\n",
       "      <td>0.035027</td>\n",
       "      <td>0.040031</td>\n",
       "      <td>0.005389</td>\n",
       "      <td>0.074673</td>\n",
       "      <td>0.482679</td>\n",
       "    </tr>\n",
       "    <tr>\n",
       "      <th>X</th>\n",
       "      <td>0.054377</td>\n",
       "      <td>0.184660</td>\n",
       "      <td>0.002870</td>\n",
       "      <td>0.062669</td>\n",
       "      <td>0.144156</td>\n",
       "      <td>0.055175</td>\n",
       "      <td>0.075267</td>\n",
       "      <td>0.026152</td>\n",
       "      <td>0.163132</td>\n",
       "      <td>0.010206</td>\n",
       "      <td>0.017063</td>\n",
       "      <td>0.204274</td>\n",
       "    </tr>\n",
       "    <tr>\n",
       "      <th>ADV</th>\n",
       "      <td>0.069310</td>\n",
       "      <td>0.014995</td>\n",
       "      <td>0.031989</td>\n",
       "      <td>0.030990</td>\n",
       "      <td>0.119294</td>\n",
       "      <td>0.014995</td>\n",
       "      <td>0.023659</td>\n",
       "      <td>0.077974</td>\n",
       "      <td>0.132622</td>\n",
       "      <td>0.006998</td>\n",
       "      <td>0.129957</td>\n",
       "      <td>0.347218</td>\n",
       "    </tr>\n",
       "    <tr>\n",
       "      <th>.</th>\n",
       "      <td>0.173831</td>\n",
       "      <td>0.002518</td>\n",
       "      <td>0.081025</td>\n",
       "      <td>0.222752</td>\n",
       "      <td>0.091097</td>\n",
       "      <td>0.065558</td>\n",
       "      <td>0.026799</td>\n",
       "      <td>0.051888</td>\n",
       "      <td>0.093255</td>\n",
       "      <td>0.058363</td>\n",
       "      <td>0.044604</td>\n",
       "      <td>0.088219</td>\n",
       "    </tr>\n",
       "    <tr>\n",
       "      <th>CONJ</th>\n",
       "      <td>0.119535</td>\n",
       "      <td>0.005116</td>\n",
       "      <td>0.042326</td>\n",
       "      <td>0.347907</td>\n",
       "      <td>0.053953</td>\n",
       "      <td>0.059070</td>\n",
       "      <td>0.007442</td>\n",
       "      <td>0.053953</td>\n",
       "      <td>0.035814</td>\n",
       "      <td>0.000465</td>\n",
       "      <td>0.118605</td>\n",
       "      <td>0.155814</td>\n",
       "    </tr>\n",
       "    <tr>\n",
       "      <th>ADJ</th>\n",
       "      <td>0.004941</td>\n",
       "      <td>0.011034</td>\n",
       "      <td>0.020916</td>\n",
       "      <td>0.698452</td>\n",
       "      <td>0.078228</td>\n",
       "      <td>0.000659</td>\n",
       "      <td>0.021080</td>\n",
       "      <td>0.004941</td>\n",
       "      <td>0.065876</td>\n",
       "      <td>0.016469</td>\n",
       "      <td>0.065876</td>\n",
       "      <td>0.011528</td>\n",
       "    </tr>\n",
       "    <tr>\n",
       "      <th>VERB</th>\n",
       "      <td>0.134302</td>\n",
       "      <td>0.031070</td>\n",
       "      <td>0.023070</td>\n",
       "      <td>0.110455</td>\n",
       "      <td>0.091658</td>\n",
       "      <td>0.035809</td>\n",
       "      <td>0.217182</td>\n",
       "      <td>0.081715</td>\n",
       "      <td>0.034643</td>\n",
       "      <td>0.005437</td>\n",
       "      <td>0.065481</td>\n",
       "      <td>0.169178</td>\n",
       "    </tr>\n",
       "  </tbody>\n",
       "</table>\n",
       "</div>"
      ],
      "text/plain": [
       "           DET       PRT       NUM      NOUN       ADP      PRON         X  \\\n",
       "DET   0.005420  0.000241  0.022163  0.641050  0.008914  0.003493  0.045772   \n",
       "PRT   0.100588  0.001960  0.057479  0.247224  0.020248  0.016982  0.014043   \n",
       "NUM   0.003263  0.027588  0.184812  0.352714  0.035004  0.001483  0.209137   \n",
       "NOUN  0.013398  0.043907  0.009247  0.264172  0.177231  0.004806  0.028871   \n",
       "ADP   0.324667  0.001492  0.062227  0.322003  0.016942  0.069153  0.034949   \n",
       "PRON  0.009623  0.012317  0.007698  0.210162  0.022325  0.007313  0.092764   \n",
       "X     0.054377  0.184660  0.002870  0.062669  0.144156  0.055175  0.075267   \n",
       "ADV   0.069310  0.014995  0.031989  0.030990  0.119294  0.014995  0.023659   \n",
       ".     0.173831  0.002518  0.081025  0.222752  0.091097  0.065558  0.026799   \n",
       "CONJ  0.119535  0.005116  0.042326  0.347907  0.053953  0.059070  0.007442   \n",
       "ADJ   0.004941  0.011034  0.020916  0.698452  0.078228  0.000659  0.021080   \n",
       "VERB  0.134302  0.031070  0.023070  0.110455  0.091658  0.035809  0.217182   \n",
       "\n",
       "           ADV         .      CONJ       ADJ      VERB  \n",
       "DET   0.012407  0.018188  0.000482  0.202240  0.039629  \n",
       "PRT   0.010451  0.043109  0.002286  0.083932  0.401698  \n",
       "NUM   0.002373  0.118363  0.013646  0.033521  0.018096  \n",
       "NOUN  0.017111  0.239851  0.042487  0.012051  0.146867  \n",
       "ADP   0.013213  0.038892  0.000746  0.107299  0.008418  \n",
       "PRON  0.035027  0.040031  0.005389  0.074673  0.482679  \n",
       "X     0.026152  0.163132  0.010206  0.017063  0.204274  \n",
       "ADV   0.077974  0.132622  0.006998  0.129957  0.347218  \n",
       ".     0.051888  0.093255  0.058363  0.044604  0.088219  \n",
       "CONJ  0.053953  0.035814  0.000465  0.118605  0.155814  \n",
       "ADJ   0.004941  0.065876  0.016469  0.065876  0.011528  \n",
       "VERB  0.081715  0.034643  0.005437  0.065481  0.169178  "
      ]
     },
     "execution_count": 18,
     "metadata": {},
     "output_type": "execute_result"
    }
   ],
   "source": [
    "# dataset glimpse\n",
    "tags_df"
   ]
  },
  {
   "cell_type": "code",
   "execution_count": 19,
   "metadata": {},
   "outputs": [
    {
     "data": {
      "text/plain": [
       "DET     0.173831\n",
       "PRT     0.002518\n",
       "NUM     0.081025\n",
       "NOUN    0.222752\n",
       "ADP     0.091097\n",
       "PRON    0.065558\n",
       "X       0.026799\n",
       "ADV     0.051888\n",
       ".       0.093255\n",
       "CONJ    0.058363\n",
       "ADJ     0.044604\n",
       "VERB    0.088219\n",
       "Name: ., dtype: float32"
      ]
     },
     "execution_count": 19,
     "metadata": {},
     "output_type": "execute_result"
    }
   ],
   "source": [
    "tags_df.loc['.', :]"
   ]
  },
  {
   "cell_type": "code",
   "execution_count": 20,
   "metadata": {},
   "outputs": [
    {
     "data": {
      "image/png": "[encoded data removed]",
      "text/plain": [
       "<matplotlib.figure.Figure at 0x183a7bce6d8>"
      ]
     },
     "metadata": {},
     "output_type": "display_data"
    }
   ],
   "source": [
    "# heatmap of tags matrix\n",
    "# T(i, j) means P(tag j given tag i)\n",
    "plt.figure(figsize=(18, 12))\n",
    "sns.heatmap(tags_df)\n",
    "plt.show()"
   ]
  },
  {
   "cell_type": "code",
   "execution_count": 21,
   "metadata": {},
   "outputs": [
    {
     "data": {
      "image/png": "[encoded data removed]",
      "text/plain": [
       "<matplotlib.figure.Figure at 0x183a8e26080>"
      ]
     },
     "metadata": {},
     "output_type": "display_data"
    }
   ],
   "source": [
    "# frequent tags\n",
    "# filter the df to get P(t2, t1) > 0.5\n",
    "tags_frequent = tags_df[tags_df>0.5]\n",
    "plt.figure(figsize=(18, 12))\n",
    "sns.heatmap(tags_frequent)\n",
    "plt.show()"
   ]
  },
  {
   "cell_type": "markdown",
   "metadata": {},
   "source": [
    "### <font color=brown> Step 2: Build the vanilla Viterbi based POS tagger <a id='Step 2'></a> </font>\n",
    "\n",
    "The steps are as follows:\n",
    "- Given a sequence of words\n",
    "- Iterate through the sequence\n",
    "- For each word (starting from first word in sequence) calculate the product of emission probabilties and transition probabilties for all possible tags.\n",
    "- Assign the tag which has maximum probability obtained in step 3 above.\n",
    "- Move to the next word in sequence to repeat steps 3 and 4 above"
   ]
  },
  {
   "cell_type": "code",
   "execution_count": 22,
   "metadata": {
    "collapsed": true
   },
   "outputs": [],
   "source": [
    "# Vanilla Viterbi Algorithm\n",
    "def Viterbi(words, train_bag = train_tagged_words):\n",
    "    state = []\n",
    "    \n",
    "    T = list(set([pair[1] for pair in train_bag]))\n",
    "    \n",
    "    for key, word in enumerate(words):\n",
    "        #initialise list of probability column for a given observation\n",
    "        p = [] \n",
    "        for tag in T:\n",
    "            if key == 0:\n",
    "                transition_p = tags_df.loc['.', tag]\n",
    "            else:\n",
    "                transition_p = tags_df.loc[state[-1], tag]\n",
    "                \n",
    "            # compute emission and state probabilities\n",
    "            emission_p = word_given_tag(words[key], tag)[0]/word_given_tag(words[key], tag)[1]\n",
    "            state_probability = emission_p * transition_p    \n",
    "            p.append(state_probability)\n",
    "            \n",
    "        pmax = max(p)\n",
    "        # getting state for which probability is maximum\n",
    "        state_max = T[p.index(pmax)] \n",
    "        state.append(state_max)\n",
    "    return list(zip(words, state))"
   ]
  },
  {
   "cell_type": "code",
   "execution_count": 23,
   "metadata": {
    "collapsed": true
   },
   "outputs": [],
   "source": [
    "# Let's test our Viterbi algorithm on a few sample sentences of test dataset\n",
    "\n",
    "random.seed(1234)\n",
    "\n",
    "# choose random 5 sents\n",
    "rndom = [random.randint(1,len(test_set)) for x in range(5)]\n",
    "\n",
    "# list of sents\n",
    "test_run = [test_set[i] for i in rndom]\n",
    "\n",
    "# list of tagged words\n",
    "test_run_base = [tup for sent in test_run for tup in sent]\n",
    "\n",
    "# list of untagged words\n",
    "test_tagged_words = [tup[0] for sent in test_run for tup in sent]"
   ]
  },
  {
   "cell_type": "code",
   "execution_count": 24,
   "metadata": {},
   "outputs": [
    {
     "name": "stdout",
     "output_type": "stream",
     "text": [
      "Time taken in seconds:  9.204278230667114\n"
     ]
    }
   ],
   "source": [
    "# tagging the test sentences\n",
    "start = time.time()\n",
    "tagged_seq = Viterbi(test_tagged_words)\n",
    "end = time.time()\n",
    "difference = end-start\n",
    "\n",
    "print(\"Time taken in seconds: \", difference)"
   ]
  },
  {
   "cell_type": "code",
   "execution_count": 25,
   "metadata": {},
   "outputs": [
    {
     "name": "stdout",
     "output_type": "stream",
     "text": [
      "Vanilla Viterbi Algorithm Accuracy:  84.44444444444444\n"
     ]
    }
   ],
   "source": [
    "# Let's check the accuracy of the vanilla viterbi algorithm\n",
    "check = [i for i, j in zip(tagged_seq, test_run_base) if i == j] \n",
    "\n",
    "vanilla_viterbi_accuracy = len(check)/len(tagged_seq)\n",
    "print('Vanilla Viterbi Algorithm Accuracy: ',vanilla_viterbi_accuracy*100)"
   ]
  },
  {
   "cell_type": "code",
   "execution_count": 26,
   "metadata": {},
   "outputs": [
    {
     "name": "stdout",
     "output_type": "stream",
     "text": [
      "14\n"
     ]
    },
    {
     "data": {
      "text/plain": [
       "[[(',', '.'), (('Commodore', 'DET'), ('Commodore', 'NOUN'))],\n",
       " [('Commodore', 'NOUN'), (('Pet', 'DET'), ('Pet', 'NOUN'))],\n",
       " [('and', 'CONJ'), (('Tandy', 'DET'), ('Tandy', 'NOUN'))],\n",
       " [('Tandy', 'NOUN'), (('TRS-80', 'DET'), ('TRS-80', 'NOUN'))],\n",
       " [('the', 'DET'), (('Natural', 'DET'), ('Natural', 'NOUN'))],\n",
       " [('large', 'ADJ'), (('hypothetical', 'DET'), ('hypothetical', 'ADJ'))],\n",
       " [('seller', 'NOUN'), (('trade', 'NOUN'), ('trade', 'VERB'))],\n",
       " [('the', 'DET'), (('flightiness', 'DET'), ('flightiness', 'NOUN'))],\n",
       " [('will', 'VERB'), (('diminish', 'DET'), ('diminish', 'VERB'))],\n",
       " [('the', 'DET'), (('East', 'NOUN'), ('East', 'ADJ'))],\n",
       " [('East', 'ADJ'), (('Anglian', 'DET'), ('Anglian', 'ADJ'))],\n",
       " [('group', 'NOUN'), (('that', 'ADP'), ('that', 'DET'))],\n",
       " [('that', 'DET'), (('*T*-223', 'DET'), ('*T*-223', 'X'))],\n",
       " [('bells', 'NOUN'), (('pealing', 'DET'), ('pealing', 'VERB'))]]"
      ]
     },
     "execution_count": 26,
     "metadata": {},
     "output_type": "execute_result"
    }
   ],
   "source": [
    "# let's check the incorrectly tagged words\n",
    "incorrect_tagged_cases = [[test_run_base[i-1],j] for i, j in enumerate(zip(tagged_seq, test_run_base)) if j[0]!=j[1]]\n",
    "print(len(incorrect_tagged_cases))\n",
    "incorrect_tagged_cases"
   ]
  },
  {
   "cell_type": "markdown",
   "metadata": {},
   "source": [
    "Before proceeding for dealing with unknown words, lets first see how many unknown words we have. Unknows words would be\n",
    "those words that are present in the test set but not in the train set. That is the words the algorithm has not seen before."
   ]
  },
  {
   "cell_type": "code",
   "execution_count": 27,
   "metadata": {},
   "outputs": [
    {
     "name": "stdout",
     "output_type": "stream",
     "text": [
      "Total Unknown words : 11\n",
      "\n",
      "\n",
      "Unknown Words : ['Commodore', 'flightiness', 'diminish', 'Pet', 'TRS-80', 'Anglian', 'Natural', 'hypothetical', 'pealing', 'Tandy', '*T*-223']\n"
     ]
    }
   ],
   "source": [
    "# Finding list of Unknown words \n",
    "test_vocabulary_set = set([t for t in test_tagged_words])\n",
    "\n",
    "unknown_words = list(test_vocabulary_set - training_vocabulary_set)\n",
    "print(\"Total Unknown words :\", len(unknown_words))\n",
    "print(\"\\n\")\n",
    "print(\"Unknown Words :\", unknown_words)"
   ]
  },
  {
   "cell_type": "code",
   "execution_count": 28,
   "metadata": {
    "collapsed": true
   },
   "outputs": [],
   "source": [
    "## Testing the Viterbi function on a random sentence\n",
    "sentence_test = 'The 2018 FIFA World Cup is the 21st FIFA World Cup, an international football tournament contested once every four years.'\n",
    "words = word_tokenize(sentence_test)\n",
    "\n",
    "start = time.time()\n",
    "tagged_seq = Viterbi(words)\n",
    "end = time.time()\n",
    "difference = end-start"
   ]
  },
  {
   "cell_type": "code",
   "execution_count": 29,
   "metadata": {},
   "outputs": [
    {
     "name": "stdout",
     "output_type": "stream",
     "text": [
      "[('The', 'DET'), ('2018', 'DET'), ('FIFA', 'DET'), ('World', 'NOUN'), ('Cup', 'DET'), ('is', 'VERB'), ('the', 'DET'), ('21st', 'DET'), ('FIFA', 'DET'), ('World', 'NOUN'), ('Cup', 'DET'), (',', '.'), ('an', 'DET'), ('international', 'ADJ'), ('football', 'NOUN'), ('tournament', 'DET'), ('contested', 'DET'), ('once', 'ADV'), ('every', 'DET'), ('four', 'NUM'), ('years', 'NOUN'), ('.', '.')]\n",
      "2.2346913814544678\n"
     ]
    }
   ],
   "source": [
    "print(tagged_seq)\n",
    "print(difference)"
   ]
  },
  {
   "cell_type": "markdown",
   "metadata": {},
   "source": [
    "### <font color=brown> Step 3: Solve the problem of unknown words <a id='Step 3'></a> </font>\n",
    "1. Use lexical techniqies on the same data to see if we get better <br>\n",
    "2. Use these to tag unknown words, then see if we get better.\n",
    "\n",
    "#### <u> <font color=brown> Method 1 </u>\n",
    "\n",
    "The default Vanilla Viterbi algorithm achieved an accuracy of about 84.44%. This approx. 16% loss of accuracy was majorly due to the fact that when the algorithm encountered an unknown word (i.e. not present in the training set, such as 'COVID'), it assigned an incorrect tag arbitrarily. This is because, for unknown words, the emission probabilities for all candidate tags are 0, so the algorithm arbitrarily chooses (the first) tag.\n",
    "\n",
    "Now lets see how we can minimize this loss by modifying the Vanilla Viterbi.\n",
    "\n",
    "If a word is not present in the training vocabulary (unknown word), its emission probability will be ZERO. In that case the state probability will inturn be zero. Thus in cases where the algorithm encounters a word which it has not see previously, we can omit the emission probability and only consider the transition probability.\n",
    "\n",
    "The algorithm can be modified to deal the case as below - <br>\n",
    "<br><b> <font color=navy>\n",
    "If word in unknown Then <br>\n",
    "Consider only the transition_p (emission probability being 0)<br>\n",
    "Else<br>\n",
    "Consider both the emission and transition probability.</font>\n",
    "\n",
    "<b><u> Modified Vanilla Viterbi"
   ]
  },
  {
   "cell_type": "code",
   "execution_count": 30,
   "metadata": {
    "collapsed": true
   },
   "outputs": [],
   "source": [
    "# Modified Viterbi Heuristic\n",
    "def Vanilla_Viterbi_for_Unknown_Words(words, train_bag = train_tagged_words):\n",
    "    state = []\n",
    "    T = list(set([pair[1] for pair in train_bag]))\n",
    "    \n",
    "    for key, word in enumerate(words):\n",
    "        #initialise list of probability column for a given observation\n",
    "        p = [] \n",
    "        for tag in T:\n",
    "            if key == 0:\n",
    "                transition_p = tags_df.loc['.', tag]\n",
    "            else:\n",
    "                transition_p = tags_df.loc[state[-1], tag]\n",
    "                \n",
    "            # compute emission and state probabilities\n",
    "            emission_p = word_given_tag(words[key], tag)[0]/word_given_tag(words[key], tag)[1]\n",
    "            \n",
    "            # modification to the original vanilla viterbi algorithm \n",
    "            # to consider unknown words\n",
    "            if word not in training_vocabulary_set:\n",
    "                state_probability = transition_p\n",
    "            else:\n",
    "                state_probability = emission_p * transition_p\n",
    "                \n",
    "            p.append(state_probability)\n",
    "            \n",
    "        pmax = max(p)\n",
    "        # getting state for which probability is maximum\n",
    "        state_max = T[p.index(pmax)] \n",
    "        state.append(state_max)\n",
    "    return list(zip(words, state))"
   ]
  },
  {
   "cell_type": "code",
   "execution_count": 31,
   "metadata": {},
   "outputs": [
    {
     "name": "stdout",
     "output_type": "stream",
     "text": [
      "The accuracy of the Vanilla Viterbi Algorithm after modification to handle unknown words is - 91.11111111111111\n"
     ]
    }
   ],
   "source": [
    "# tagging the test sentences\n",
    "unknown_word_tagged_seq = Vanilla_Viterbi_for_Unknown_Words(test_tagged_words)\n",
    "\n",
    "# accuracy\n",
    "unknown_word_check = [i for i, j in zip(unknown_word_tagged_seq, test_run_base) if i == j]\n",
    "\n",
    "optimized_viterbi_accuracy = (len(unknown_word_check)/len(unknown_word_tagged_seq)) * 100\n",
    "\n",
    "print(\"The accuracy of the Vanilla Viterbi Algorithm after modification to handle unknown words is -\", optimized_viterbi_accuracy)"
   ]
  },
  {
   "cell_type": "markdown",
   "metadata": {},
   "source": [
    "The accuracy of the Vanilla Viterbi Algorithm after modification to handle unknown words is - 91.11%\n",
    "\n",
    "We see the modified viterbi algorithm performs better than the original vanilla viterbi algorithm. The modified viterbi achieves an accuracy of (approx.) 91.11% comapred to 84.44% of the vanilla viterbi.\n",
    "\n",
    "Still there is an overall loss of approx. 9%.\n",
    "\n",
    "Now, lets see if we can in reduce this loss further."
   ]
  },
  {
   "cell_type": "markdown",
   "metadata": {
    "collapsed": true
   },
   "source": [
    "#### Let's try with some Lexicon and Rule-Based Models for POS Tagging.\n",
    "####  <u> Unigram Tagger"
   ]
  },
  {
   "cell_type": "code",
   "execution_count": 33,
   "metadata": {},
   "outputs": [
    {
     "name": "stdout",
     "output_type": "stream",
     "text": [
      "The accuracy of the Unigram Tagger is - 89.84609234459325\n"
     ]
    }
   ],
   "source": [
    "# Unigram Tagger\n",
    "unigram_tagger = nltk.UnigramTagger(train_set)\n",
    "unigram_tagger_accuracy = unigram_tagger.evaluate(test_set)\n",
    "print(\"The accuracy of the Unigram Tagger is -\", unigram_tagger_accuracy*100)"
   ]
  },
  {
   "cell_type": "markdown",
   "metadata": {
    "collapsed": true
   },
   "source": [
    "Let's now try combining the unigram tagger with a rule based regex tagger."
   ]
  },
  {
   "cell_type": "code",
   "execution_count": 34,
   "metadata": {
    "collapsed": true
   },
   "outputs": [],
   "source": [
    "# patterns for tagging using a rule based regex tagger -\n",
    "\n",
    "patterns = [\n",
    "    (r'^[aA-zZ].*[0-9]+','NOUN'),  # Alpha Numeric\n",
    "    (r'.*ness$', 'NOUN'),\n",
    "    (r'.*\\'s$', 'NOUN'),              # possessive nouns\n",
    "    (r'.*s$', 'NOUN'),                # plural nouns\n",
    "    (r'.*', 'NOUN'),    \n",
    "    (r'.*ly$', 'ADV'),\n",
    "    (r'^(0|([*|-|$].*))','X'), # Any special character combination\n",
    "    (r'.*ould$', 'X'), # modals\n",
    "    (r'(The|the|A|a|An|an)$', 'DET'),\n",
    "    (r'^([0-9]|[aA-zZ])+\\-[aA-zZ]*$','ADJ'),\n",
    "    (r'.*able$', 'ADJ'), # adjective like 100-megabytes 237-Seats\n",
    "    (r'[aA-zZ]+(ed|ing|es)$', 'VERB'), # Any word ending with 'ing' or 'ed' is a verb\n",
    "    (r'[0-9].?[,\\/]?[0-9]*','NUM')# Numbers \n",
    "    ]"
   ]
  },
  {
   "cell_type": "markdown",
   "metadata": {},
   "source": [
    "<u> <b>Rule based RegexpTagger"
   ]
  },
  {
   "cell_type": "code",
   "execution_count": 35,
   "metadata": {},
   "outputs": [
    {
     "name": "stdout",
     "output_type": "stream",
     "text": [
      "The accuracy of the Unigram Tagger backed up by the RegexpTagger is - 93.40395762542475\n"
     ]
    }
   ],
   "source": [
    "# rule based RegexpTagger\n",
    "\n",
    "rule_based_tagger = nltk.RegexpTagger(patterns)\n",
    "\n",
    "# unigram tagger backed up by the rule-based tagger\n",
    "rule_based_unigram_tagger = nltk.UnigramTagger(train_set, backoff = rule_based_tagger)\n",
    "\n",
    "accuracy_rule_based_unigram_tagger = rule_based_unigram_tagger.evaluate(test_set)\n",
    "\n",
    "print(\"The accuracy of the Unigram Tagger backed up by the RegexpTagger is -\", accuracy_rule_based_unigram_tagger*100)"
   ]
  },
  {
   "cell_type": "markdown",
   "metadata": {},
   "source": [
    "<u> <b>Bigram Tagger"
   ]
  },
  {
   "cell_type": "code",
   "execution_count": 36,
   "metadata": {},
   "outputs": [
    {
     "name": "stdout",
     "output_type": "stream",
     "text": [
      "The accuracy of the Bigram Tagger backed up by the rule_based_unigram_tagger is - 93.88366979812113\n"
     ]
    }
   ],
   "source": [
    "# Bigram tagger\n",
    "\n",
    "bigram_tagger = nltk.BigramTagger(train_set, backoff = rule_based_unigram_tagger)\n",
    "bigram_tagger.evaluate(test_set)\n",
    "accuracy_bigram_tagger = bigram_tagger.evaluate(test_set)\n",
    "print(\"The accuracy of the Bigram Tagger backed up by the rule_based_unigram_tagger is -\", accuracy_bigram_tagger*100)"
   ]
  },
  {
   "cell_type": "markdown",
   "metadata": {},
   "source": [
    "<u> <b>Trigram Tagger"
   ]
  },
  {
   "cell_type": "code",
   "execution_count": 37,
   "metadata": {},
   "outputs": [
    {
     "name": "stdout",
     "output_type": "stream",
     "text": [
      "The accuracy of the Trigram Tagger backed up by the bigram_tagger is - 93.78372976214271\n"
     ]
    }
   ],
   "source": [
    "# Trigram tagger\n",
    "\n",
    "trigram_tagger = nltk.TrigramTagger(train_set, backoff = bigram_tagger)\n",
    "trigram_tagger.evaluate(test_set)\n",
    "accuracy_trigram_tagger = trigram_tagger.evaluate(test_set)\n",
    "print(\"The accuracy of the Trigram Tagger backed up by the bigram_tagger is -\", accuracy_trigram_tagger*100)"
   ]
  },
  {
   "cell_type": "markdown",
   "metadata": {
    "collapsed": true
   },
   "source": [
    "Getting marginally better, but not by much.\n",
    "Next lets see if we can use this for the unknown words\n",
    "\n",
    "Now to build this into viterbi, need to change the regex patterns to fit for the tags in our data (NOUN instead of NNS etc)"
   ]
  },
  {
   "cell_type": "markdown",
   "metadata": {
    "collapsed": true
   },
   "source": [
    "#### <u> <font color=brown> Method 2 </font> </u>\n",
    "\n",
    "We see that the Trigram Tagger backed up by the bigram tagger gives an accuracy of about 94.85%. Let's now try to modify the viterbi algorithm to use this trigram tagger as a back-off.\n",
    "\n",
    "When the viterbi algorithm is not able to tag an unknown word, it uses the rule-based tagger.\n",
    "\n",
    "<u> <b>Trigram Tagger backed off by a rule based tagger"
   ]
  },
  {
   "cell_type": "code",
   "execution_count": 38,
   "metadata": {
    "collapsed": true
   },
   "outputs": [],
   "source": [
    "# A trigram tagger backed off by a rule based tagger.\n",
    "\n",
    "def trigram_tagger(word, train_set = train_set):\n",
    "    \n",
    "    patterns = [\n",
    "    (r'[aA-zZ]+(ed|ing|es)$', 'VERB'), # Any word ending with 'ing' or 'ed' is a verb\n",
    "\n",
    "    (r'.*ly$', 'ADV'),\n",
    "        \n",
    "    (r'^([0-9]|[aA-zZ])+\\-[aA-zZ]*$','ADJ'),\n",
    "    (r'.*able$', 'ADJ'), \n",
    "    (r'.*ful$', 'ADJ'),\n",
    "    (r'.*ous$', 'ADJ'),\n",
    "        \n",
    "    (r'^[aA-zZ].*[0-9]+','NOUN'),     # Alpha Numeric\n",
    "    (r'.*ness$', 'NOUN'),\n",
    "    (r'.*\\'s$', 'NOUN'),              # possessive nouns - words ending with 's\n",
    "    (r'.*s$', 'NOUN'),                # plural nouns\n",
    "    (r'.*ers$', 'NOUN'),              # eg.- kinderganteners, autobioghapgers\n",
    "    (r'.*ment$', 'NOUN'),\n",
    "    (r'.*town$', 'NOUN'),\n",
    "        \n",
    "    (r'^(0|([*|-|$].*))','X'), # Any special character combination\n",
    "    (r'.*ould$', 'X'),\n",
    "        \n",
    "    (r'(The|the|A|a|An|an|That|that|This|this|Those|those|These|these)$', 'DET'), # That/this/these/those belong to the category of Demonstrative determiners\n",
    "    (r'[0-9].?[,\\/]?[0-9]*','NUM'), # Numbers \n",
    "        \n",
    "    (r'.*', 'NOUN')\n",
    "    ]\n",
    "\n",
    "    regex_based_tagger = nltk.RegexpTagger(patterns)\n",
    "\n",
    "    # trigram backed up by the regex tagger\n",
    "    trigram_regex_tagger = nltk.TrigramTagger(train_set, backoff = regex_based_tagger)\n",
    "    return trigram_regex_tagger.tag_sents([[(word)]])"
   ]
  },
  {
   "cell_type": "code",
   "execution_count": 39,
   "metadata": {
    "collapsed": true
   },
   "outputs": [],
   "source": [
    "def viterbi_backedup_by_trigram_tagger(words, train_bag = train_tagged_words):\n",
    "    state = []\n",
    "    tag_set = list(set([pair[1] for pair in train_bag]))\n",
    "    \n",
    "    # use the trigram tagger backed up by the rule based tagger\n",
    "    # for unknown words.\n",
    "    for key, word in enumerate(words):\n",
    "        if word not in training_vocabulary_set:\n",
    "            unknown_word_tag = trigram_tagger(word)\n",
    "            for sent in unknown_word_tag:\n",
    "                for tup in sent:\n",
    "                    state.append(tup[1])\n",
    "        else:            \n",
    "            p = [] \n",
    "            for tag in tag_set:\n",
    "                if key == 0:\n",
    "                    transition_p = tags_df.loc['.', tag]\n",
    "                else:\n",
    "                    transition_p = tags_df.loc[state[-1], tag]\n",
    "                \n",
    "            # compute emission and state probabilities\n",
    "                emission_p = word_given_tag(words[key], tag)[0]/word_given_tag(words[key], tag)[1]\n",
    "                state_probability = emission_p * transition_p    \n",
    "                p.append(state_probability)\n",
    "            \n",
    "            pmax = max(p)\n",
    "            # getting state for which probability is maximum\n",
    "            state_max = tag_set[p.index(pmax)] \n",
    "            state.append(state_max)\n",
    "    return list(zip(words, state))"
   ]
  },
  {
   "cell_type": "markdown",
   "metadata": {},
   "source": [
    "#### Evaluating tagging accuracy"
   ]
  },
  {
   "cell_type": "code",
   "execution_count": 40,
   "metadata": {},
   "outputs": [
    {
     "name": "stdout",
     "output_type": "stream",
     "text": [
      "The accuracy of the viterbi_backedup_by_trigram_tagger is - 93.33333333333333\n"
     ]
    }
   ],
   "source": [
    "# tagging the test sentences\n",
    "viterbi_trigram_tagged_seq = viterbi_backedup_by_trigram_tagger(test_tagged_words)\n",
    "\n",
    "# accuracy\n",
    "viterbi_trigram_word_check = [i for i, j in zip(viterbi_trigram_tagged_seq, test_run_base) if i == j]\n",
    "\n",
    "viterbi_trigram_accuracy = len(viterbi_trigram_word_check)/len(viterbi_trigram_tagged_seq)\n",
    "\n",
    "print(\"The accuracy of the viterbi_backedup_by_trigram_tagger is -\", viterbi_trigram_accuracy*100)"
   ]
  },
  {
   "cell_type": "markdown",
   "metadata": {},
   "source": [
    "### <font color=brown> Step 4: Compare the tagging accuracies of the modifications with the Vanilla Viterbi algorithm <a id='Step 4'></a> </font>"
   ]
  },
  {
   "cell_type": "markdown",
   "metadata": {},
   "source": [
    "<b> <u> Check the tagging accuracy on the test_set data generated using the test_train_split"
   ]
  },
  {
   "cell_type": "code",
   "execution_count": 41,
   "metadata": {},
   "outputs": [
    {
     "data": {
      "text/html": [
       "<div>\n",
       "<style>\n",
       "    .dataframe thead tr:only-child th {\n",
       "        text-align: right;\n",
       "    }\n",
       "\n",
       "    .dataframe thead th {\n",
       "        text-align: left;\n",
       "    }\n",
       "\n",
       "    .dataframe tbody tr th {\n",
       "        vertical-align: top;\n",
       "    }\n",
       "</style>\n",
       "<table border=\"1\" class=\"dataframe\">\n",
       "  <thead>\n",
       "    <tr style=\"text-align: right;\">\n",
       "      <th></th>\n",
       "      <th>Tagging_Accuracy</th>\n",
       "    </tr>\n",
       "    <tr>\n",
       "      <th>Tagging_Algorithm</th>\n",
       "      <th></th>\n",
       "    </tr>\n",
       "  </thead>\n",
       "  <tbody>\n",
       "    <tr>\n",
       "      <th>Vanilla Viterbi</th>\n",
       "      <td>84.444444</td>\n",
       "    </tr>\n",
       "    <tr>\n",
       "      <th>Optimized Vanilla Viterbi</th>\n",
       "      <td>91.111111</td>\n",
       "    </tr>\n",
       "    <tr>\n",
       "      <th>Unigram Tagger</th>\n",
       "      <td>89.846092</td>\n",
       "    </tr>\n",
       "    <tr>\n",
       "      <th>Unigram + RegexpTagger</th>\n",
       "      <td>93.403958</td>\n",
       "    </tr>\n",
       "    <tr>\n",
       "      <th>Bigram Tagger + Unigram_tagger</th>\n",
       "      <td>93.883670</td>\n",
       "    </tr>\n",
       "    <tr>\n",
       "      <th>Trigram Tagger + Bigram_tagger</th>\n",
       "      <td>93.783730</td>\n",
       "    </tr>\n",
       "    <tr>\n",
       "      <th>Viterbi + Trigram_tagger</th>\n",
       "      <td>93.333333</td>\n",
       "    </tr>\n",
       "  </tbody>\n",
       "</table>\n",
       "</div>"
      ],
      "text/plain": [
       "                                Tagging_Accuracy\n",
       "Tagging_Algorithm                               \n",
       "Vanilla Viterbi                        84.444444\n",
       "Optimized Vanilla Viterbi              91.111111\n",
       "Unigram Tagger                         89.846092\n",
       "Unigram + RegexpTagger                 93.403958\n",
       "Bigram Tagger + Unigram_tagger         93.883670\n",
       "Trigram Tagger + Bigram_tagger         93.783730\n",
       "Viterbi + Trigram_tagger               93.333333"
      ]
     },
     "execution_count": 41,
     "metadata": {},
     "output_type": "execute_result"
    }
   ],
   "source": [
    "acccuracy_data = [['Vanilla Viterbi', vanilla_viterbi_accuracy*100], \n",
    "                  ['Optimized Vanilla Viterbi', optimized_viterbi_accuracy], \n",
    "                  ['Unigram Tagger', unigram_tagger_accuracy*100],\n",
    "                  ['Unigram + RegexpTagger', accuracy_rule_based_unigram_tagger*100],\n",
    "                  ['Bigram Tagger + Unigram_tagger', accuracy_bigram_tagger*100],\n",
    "                  ['Trigram Tagger + Bigram_tagger', accuracy_trigram_tagger*100],\n",
    "                  ['Viterbi + Trigram_tagger', viterbi_trigram_accuracy*100]]\n",
    "\n",
    "acccuracy_data_df = pd.DataFrame(acccuracy_data, columns = ['Tagging_Algorithm', 'Tagging_Accuracy'])\n",
    "\n",
    "acccuracy_data_df.set_index('Tagging_Algorithm', drop = True, inplace = True)\n",
    "\n",
    "acccuracy_data_df"
   ]
  },
  {
   "cell_type": "markdown",
   "metadata": {},
   "source": [
    "<b> <u> Plotting the graph for Tagging Accuracy"
   ]
  },
  {
   "cell_type": "code",
   "execution_count": 42,
   "metadata": {},
   "outputs": [
    {
     "data": {
      "image/png": "[encoded data removed]",
      "text/plain": [
       "<matplotlib.figure.Figure at 0x183aac69748>"
      ]
     },
     "metadata": {},
     "output_type": "display_data"
    }
   ],
   "source": [
    "acccuracy_data_df.plot.line(rot = 90, legend = True)\n",
    "plt.show()"
   ]
  },
  {
   "cell_type": "markdown",
   "metadata": {},
   "source": [
    "<b> <u> Checking the tagging accuracies for the algorithm on the sample test sentences provided - "
   ]
  },
  {
   "cell_type": "code",
   "execution_count": 43,
   "metadata": {
    "collapsed": true
   },
   "outputs": [],
   "source": [
    "sample_test_sentences = ['Android is a mobile operating system developed by Google.',\n",
    "\"Android has been the best-selling OS worldwide on smartphones since 2011 and on tablets since 2013.\",\n",
    "\"Google and Twitter made a deal in 2015 that gave Google access to Twitter's firehose.\",\n",
    "\"Twitter is an online news and social networking service on which users post and interact with messages known as tweets.\",\n",
    "\"Before entering politics, Donald Trump was a domineering businessman and a television personality.\",\n",
    "\"The 2018 FIFA World Cup is the 21st FIFA World Cup, an international football tournament contested once every four years.\",\n",
    "\"This is the first World Cup to be held in Eastern Europe and the 11th time that it has been held in Europe.\",\n",
    "\"Show me the cheapest round trips from Dallas to Atlanta\",\n",
    "\"I would like to see flights from Denver to Philadelphia.\",\n",
    "\"Show me the price of the flights leaving Atlanta at about 3 in the afternoon and arriving in San Francisco.\",\n",
    "\"NASA invited social media users to experience the launch of ICESAT-2 Satellite.\"]"
   ]
  },
  {
   "cell_type": "code",
   "execution_count": 44,
   "metadata": {},
   "outputs": [
    {
     "data": {
      "text/plain": [
       "[[('Android', 'NOUN'),\n",
       "  ('is', 'VERB'),\n",
       "  ('a', 'DET'),\n",
       "  ('mobile', 'ADJ'),\n",
       "  ('operating', 'NOUN'),\n",
       "  ('system', 'NOUN'),\n",
       "  ('developed', 'VERB'),\n",
       "  ('by', 'ADP'),\n",
       "  ('Google', 'NOUN'),\n",
       "  ('.', '.')],\n",
       " [('Android', 'NOUN'),\n",
       "  ('has', 'VERB'),\n",
       "  ('been', 'VERB'),\n",
       "  ('the', 'DET'),\n",
       "  ('best-selling', 'ADJ'),\n",
       "  ('OS', 'NOUN'),\n",
       "  ('worldwide', 'NOUN'),\n",
       "  ('on', 'ADP'),\n",
       "  ('smartphones', 'NOUN'),\n",
       "  ('since', 'ADP'),\n",
       "  ('2011', 'NUM'),\n",
       "  ('and', 'CONJ'),\n",
       "  ('on', 'ADP'),\n",
       "  ('tablets', 'NOUN'),\n",
       "  ('since', 'ADP'),\n",
       "  ('2013', 'NUM'),\n",
       "  ('.', '.')],\n",
       " [('Google', 'NOUN'),\n",
       "  ('and', 'CONJ'),\n",
       "  ('Twitter', 'NOUN'),\n",
       "  ('made', 'VERB'),\n",
       "  ('a', 'DET'),\n",
       "  ('deal', 'NOUN'),\n",
       "  ('in', 'ADP'),\n",
       "  ('2015', 'NUM'),\n",
       "  ('that', 'DET'),\n",
       "  ('gave', 'VERB'),\n",
       "  ('Google', 'NOUN'),\n",
       "  ('access', 'NOUN'),\n",
       "  ('to', 'PRT'),\n",
       "  ('Twitter', 'NOUN'),\n",
       "  (\"'s\", 'PRT'),\n",
       "  ('firehose', 'NOUN'),\n",
       "  ('.', '.')],\n",
       " [('Twitter', 'NOUN'),\n",
       "  ('is', 'VERB'),\n",
       "  ('an', 'DET'),\n",
       "  ('online', 'ADJ'),\n",
       "  ('news', 'NOUN'),\n",
       "  ('and', 'CONJ'),\n",
       "  ('social', 'ADJ'),\n",
       "  ('networking', 'NOUN'),\n",
       "  ('service', 'NOUN'),\n",
       "  ('on', 'ADP'),\n",
       "  ('which', 'DET'),\n",
       "  ('users', 'NOUN'),\n",
       "  ('post', 'NOUN'),\n",
       "  ('and', 'CONJ'),\n",
       "  ('interact', 'NOUN'),\n",
       "  ('with', 'ADP'),\n",
       "  ('messages', 'NOUN'),\n",
       "  ('known', 'VERB'),\n",
       "  ('as', 'ADP'),\n",
       "  ('tweets', 'NOUN'),\n",
       "  ('.', '.')],\n",
       " [('Before', 'ADP'),\n",
       "  ('entering', 'VERB'),\n",
       "  ('politics', 'NOUN'),\n",
       "  (',', '.'),\n",
       "  ('Donald', 'NOUN'),\n",
       "  ('Trump', 'NOUN'),\n",
       "  ('was', 'VERB'),\n",
       "  ('a', 'DET'),\n",
       "  ('domineering', 'ADJ'),\n",
       "  ('businessman', 'NOUN'),\n",
       "  ('and', 'CONJ'),\n",
       "  ('a', 'DET'),\n",
       "  ('television', 'NOUN'),\n",
       "  ('personality', 'NOUN'),\n",
       "  ('.', '.')],\n",
       " [('The', 'DET'),\n",
       "  ('2018', 'NUM'),\n",
       "  ('FIFA', 'NOUN'),\n",
       "  ('World', 'NOUN'),\n",
       "  ('Cup', 'NOUN'),\n",
       "  ('is', 'VERB'),\n",
       "  ('the', 'DET'),\n",
       "  ('21st', 'NUM'),\n",
       "  ('FIFA', 'NOUN'),\n",
       "  ('World', 'NOUN'),\n",
       "  ('Cup', 'NOUN'),\n",
       "  (',', '.'),\n",
       "  ('an', 'DET'),\n",
       "  ('international', 'ADJ'),\n",
       "  ('football', 'NOUN'),\n",
       "  ('tournament', 'NOUN'),\n",
       "  ('contested', 'VERB'),\n",
       "  ('once', 'ADV'),\n",
       "  ('every', 'DET'),\n",
       "  ('four', 'NUM'),\n",
       "  ('years', 'NOUN'),\n",
       "  ('.', '.')],\n",
       " [('This', 'DET'),\n",
       "  ('is', 'VERB'),\n",
       "  ('the', 'DET'),\n",
       "  ('first', 'ADJ'),\n",
       "  ('World', 'NOUN'),\n",
       "  ('Cup', 'NOUN'),\n",
       "  ('to', 'PRT'),\n",
       "  ('be', 'VERB'),\n",
       "  ('held', 'VERB'),\n",
       "  ('in', 'ADP'),\n",
       "  ('Eastern', 'NOUN'),\n",
       "  ('Europe', 'NOUN'),\n",
       "  ('and', 'CONJ'),\n",
       "  ('the', 'DET'),\n",
       "  ('11th', 'NUM'),\n",
       "  ('time', 'NOUN'),\n",
       "  ('that', 'ADP'),\n",
       "  ('it', 'PRON'),\n",
       "  ('has', 'VERB'),\n",
       "  ('been', 'VERB'),\n",
       "  ('held', 'VERB'),\n",
       "  ('in', 'ADP'),\n",
       "  ('Europe', 'NOUN'),\n",
       "  ('.', '.')],\n",
       " [('Show', 'VERB'),\n",
       "  ('me', 'PRON'),\n",
       "  ('the', 'DET'),\n",
       "  ('cheapest', 'ADJ'),\n",
       "  ('round', 'NOUN'),\n",
       "  ('trips', 'NOUN'),\n",
       "  ('from', 'ADP'),\n",
       "  ('Dallas', 'NOUN'),\n",
       "  ('to', 'PRT'),\n",
       "  ('Atlanta', 'VERB')],\n",
       " [('I', 'PRON'),\n",
       "  ('would', 'VERB'),\n",
       "  ('like', 'VERB'),\n",
       "  ('to', 'PRT'),\n",
       "  ('see', 'VERB'),\n",
       "  ('flights', 'NOUN'),\n",
       "  ('from', 'ADP'),\n",
       "  ('Denver', 'NOUN'),\n",
       "  ('to', 'PRT'),\n",
       "  ('Philadelphia', 'NOUN'),\n",
       "  ('.', '.')],\n",
       " [('Show', 'VERB'),\n",
       "  ('me', 'PRON'),\n",
       "  ('the', 'DET'),\n",
       "  ('price', 'NOUN'),\n",
       "  ('of', 'ADP'),\n",
       "  ('the', 'DET'),\n",
       "  ('flights', 'NOUN'),\n",
       "  ('leaving', 'VERB'),\n",
       "  ('Atlanta', 'NOUN'),\n",
       "  ('at', 'ADP'),\n",
       "  ('about', 'ADV'),\n",
       "  ('3', 'NUM'),\n",
       "  ('in', 'ADP'),\n",
       "  ('the', 'DET'),\n",
       "  ('afternoon', 'NOUN'),\n",
       "  ('and', 'CONJ'),\n",
       "  ('arriving', 'NOUN'),\n",
       "  ('in', 'ADP'),\n",
       "  ('San', 'NOUN'),\n",
       "  ('Francisco', 'NOUN'),\n",
       "  ('.', '.')],\n",
       " [('NASA', 'NOUN'),\n",
       "  ('invited', 'VERB'),\n",
       "  ('social', 'ADJ'),\n",
       "  ('media', 'NOUN'),\n",
       "  ('users', 'NOUN'),\n",
       "  ('to', 'PRT'),\n",
       "  ('experience', 'VERB'),\n",
       "  ('the', 'DET'),\n",
       "  ('launch', 'NOUN'),\n",
       "  ('of', 'ADP'),\n",
       "  ('ICESAT-2', 'NOUN'),\n",
       "  ('Satellite', 'NOUN'),\n",
       "  ('.', '.')]]"
      ]
     },
     "execution_count": 44,
     "metadata": {},
     "output_type": "execute_result"
    }
   ],
   "source": [
    "sample_test_tokenized_sents = [word_tokenize(sent) for sent in sample_test_sentences]\n",
    "sample_test_corpus_pos_tags = nltk.pos_tag_sents(sample_test_tokenized_sents, tagset = 'universal')\n",
    "sample_test_corpus_pos_tags"
   ]
  },
  {
   "cell_type": "code",
   "execution_count": 45,
   "metadata": {
    "collapsed": true
   },
   "outputs": [],
   "source": [
    "# list of untagged words from the sample test data provided\n",
    "sample_test_tagged_words = [tup[0] for sent in sample_test_corpus_pos_tags for tup in sent]\n",
    "\n",
    "\n",
    "# list of tagged words\n",
    "sample_test_test_run_base = [tup for sent in sample_test_corpus_pos_tags for tup in sent]"
   ]
  },
  {
   "cell_type": "code",
   "execution_count": 46,
   "metadata": {},
   "outputs": [
    {
     "data": {
      "text/plain": [
       "['Android',\n",
       " 'is',\n",
       " 'a',\n",
       " 'mobile',\n",
       " 'operating',\n",
       " 'system',\n",
       " 'developed',\n",
       " 'by',\n",
       " 'Google',\n",
       " '.',\n",
       " 'Android',\n",
       " 'has',\n",
       " 'been',\n",
       " 'the',\n",
       " 'best-selling',\n",
       " 'OS',\n",
       " 'worldwide',\n",
       " 'on',\n",
       " 'smartphones',\n",
       " 'since',\n",
       " '2011',\n",
       " 'and',\n",
       " 'on',\n",
       " 'tablets',\n",
       " 'since',\n",
       " '2013',\n",
       " '.',\n",
       " 'Google',\n",
       " 'and',\n",
       " 'Twitter',\n",
       " 'made',\n",
       " 'a',\n",
       " 'deal',\n",
       " 'in',\n",
       " '2015',\n",
       " 'that',\n",
       " 'gave',\n",
       " 'Google',\n",
       " 'access',\n",
       " 'to',\n",
       " 'Twitter',\n",
       " \"'s\",\n",
       " 'firehose',\n",
       " '.',\n",
       " 'Twitter',\n",
       " 'is',\n",
       " 'an',\n",
       " 'online',\n",
       " 'news',\n",
       " 'and',\n",
       " 'social',\n",
       " 'networking',\n",
       " 'service',\n",
       " 'on',\n",
       " 'which',\n",
       " 'users',\n",
       " 'post',\n",
       " 'and',\n",
       " 'interact',\n",
       " 'with',\n",
       " 'messages',\n",
       " 'known',\n",
       " 'as',\n",
       " 'tweets',\n",
       " '.',\n",
       " 'Before',\n",
       " 'entering',\n",
       " 'politics',\n",
       " ',',\n",
       " 'Donald',\n",
       " 'Trump',\n",
       " 'was',\n",
       " 'a',\n",
       " 'domineering',\n",
       " 'businessman',\n",
       " 'and',\n",
       " 'a',\n",
       " 'television',\n",
       " 'personality',\n",
       " '.',\n",
       " 'The',\n",
       " '2018',\n",
       " 'FIFA',\n",
       " 'World',\n",
       " 'Cup',\n",
       " 'is',\n",
       " 'the',\n",
       " '21st',\n",
       " 'FIFA',\n",
       " 'World',\n",
       " 'Cup',\n",
       " ',',\n",
       " 'an',\n",
       " 'international',\n",
       " 'football',\n",
       " 'tournament',\n",
       " 'contested',\n",
       " 'once',\n",
       " 'every',\n",
       " 'four',\n",
       " 'years',\n",
       " '.',\n",
       " 'This',\n",
       " 'is',\n",
       " 'the',\n",
       " 'first',\n",
       " 'World',\n",
       " 'Cup',\n",
       " 'to',\n",
       " 'be',\n",
       " 'held',\n",
       " 'in',\n",
       " 'Eastern',\n",
       " 'Europe',\n",
       " 'and',\n",
       " 'the',\n",
       " '11th',\n",
       " 'time',\n",
       " 'that',\n",
       " 'it',\n",
       " 'has',\n",
       " 'been',\n",
       " 'held',\n",
       " 'in',\n",
       " 'Europe',\n",
       " '.',\n",
       " 'Show',\n",
       " 'me',\n",
       " 'the',\n",
       " 'cheapest',\n",
       " 'round',\n",
       " 'trips',\n",
       " 'from',\n",
       " 'Dallas',\n",
       " 'to',\n",
       " 'Atlanta',\n",
       " 'I',\n",
       " 'would',\n",
       " 'like',\n",
       " 'to',\n",
       " 'see',\n",
       " 'flights',\n",
       " 'from',\n",
       " 'Denver',\n",
       " 'to',\n",
       " 'Philadelphia',\n",
       " '.',\n",
       " 'Show',\n",
       " 'me',\n",
       " 'the',\n",
       " 'price',\n",
       " 'of',\n",
       " 'the',\n",
       " 'flights',\n",
       " 'leaving',\n",
       " 'Atlanta',\n",
       " 'at',\n",
       " 'about',\n",
       " '3',\n",
       " 'in',\n",
       " 'the',\n",
       " 'afternoon',\n",
       " 'and',\n",
       " 'arriving',\n",
       " 'in',\n",
       " 'San',\n",
       " 'Francisco',\n",
       " '.',\n",
       " 'NASA',\n",
       " 'invited',\n",
       " 'social',\n",
       " 'media',\n",
       " 'users',\n",
       " 'to',\n",
       " 'experience',\n",
       " 'the',\n",
       " 'launch',\n",
       " 'of',\n",
       " 'ICESAT-2',\n",
       " 'Satellite',\n",
       " '.']"
      ]
     },
     "execution_count": 46,
     "metadata": {},
     "output_type": "execute_result"
    }
   ],
   "source": [
    "sample_test_tagged_words"
   ]
  },
  {
   "cell_type": "markdown",
   "metadata": {},
   "source": [
    "(1) Testing the accuracy of Vanilla Viterbi on sample test data -"
   ]
  },
  {
   "cell_type": "code",
   "execution_count": 48,
   "metadata": {},
   "outputs": [
    {
     "name": "stdout",
     "output_type": "stream",
     "text": [
      "The accuracy of the Vanilla Viterbi Algorithm on the sample test data is - 75.13812154696133\n"
     ]
    }
   ],
   "source": [
    "# tagging the test sentences\n",
    "sample_test_tagged_seq = Viterbi(sample_test_tagged_words)\n",
    "\n",
    "# Let's check the accuracy of the vanilla viterbi algorithm\n",
    "sample_test_check = [i for i, j in zip(sample_test_tagged_seq, sample_test_test_run_base) if i == j]\n",
    "\n",
    "vanilla_viterbi_accuracy = len(sample_test_check)/len(sample_test_tagged_seq)\n",
    "\n",
    "print(\"The accuracy of the Vanilla Viterbi Algorithm on the sample test data is -\", vanilla_viterbi_accuracy*100)"
   ]
  },
  {
   "cell_type": "markdown",
   "metadata": {},
   "source": [
    "(2) Testing the accuracy of Vanilla_Viterbi_for_Unknown_Words on sample test data -"
   ]
  },
  {
   "cell_type": "code",
   "execution_count": 49,
   "metadata": {},
   "outputs": [
    {
     "name": "stdout",
     "output_type": "stream",
     "text": [
      "The accuracy of the Vanilla_Viterbi_for_Unknown_Words on the sample test data is - 86.1878453038674\n"
     ]
    }
   ],
   "source": [
    "# tagging the test sentences\n",
    "sample_test_unknown_word_tagged_seq = Vanilla_Viterbi_for_Unknown_Words(sample_test_tagged_words)\n",
    "\n",
    "# accuracy\n",
    "sample_test_unknown_word_check = [i for i, j in zip(sample_test_unknown_word_tagged_seq, sample_test_test_run_base) if i == j]\n",
    "\n",
    "sample_test_optimized_viterbi_accuracy = len(sample_test_unknown_word_check)/len(sample_test_unknown_word_tagged_seq)\n",
    "\n",
    "print(\"The accuracy of the Vanilla_Viterbi_for_Unknown_Words on the sample test data is -\", sample_test_optimized_viterbi_accuracy*100)"
   ]
  },
  {
   "cell_type": "markdown",
   "metadata": {},
   "source": [
    "(3) Testing the accuracy of viterbi_backedup_by_trigram_tagger on sample test data -"
   ]
  },
  {
   "cell_type": "code",
   "execution_count": 51,
   "metadata": {},
   "outputs": [
    {
     "name": "stdout",
     "output_type": "stream",
     "text": [
      "The accuracy of the viterbi_backedup_by_trigram_tagger on the sample test data is - 92.81767955801105\n"
     ]
    }
   ],
   "source": [
    "# tagging the test sentences\n",
    "sample_test_viterbi_trigram_tagged_seq = viterbi_backedup_by_trigram_tagger(sample_test_tagged_words)\n",
    "\n",
    "# accuracy\n",
    "sample_test_viterbi_trigram_check = [i for i, j in zip(sample_test_viterbi_trigram_tagged_seq, sample_test_test_run_base) if i == j]\n",
    "\n",
    "sample_test_viterbi_trigram_accuracy = len(sample_test_viterbi_trigram_check)/len(sample_test_viterbi_trigram_tagged_seq)\n",
    "\n",
    "print(\"The accuracy of the viterbi_backedup_by_trigram_tagger on the sample test data is -\", sample_test_viterbi_trigram_accuracy*100)"
   ]
  },
  {
   "cell_type": "markdown",
   "metadata": {},
   "source": [
    "<b> <u> Comparing the accuracies of the 3 algorithm on sample test data -"
   ]
  },
  {
   "cell_type": "code",
   "execution_count": 52,
   "metadata": {},
   "outputs": [
    {
     "data": {
      "text/html": [
       "<div>\n",
       "<style>\n",
       "    .dataframe thead tr:only-child th {\n",
       "        text-align: right;\n",
       "    }\n",
       "\n",
       "    .dataframe thead th {\n",
       "        text-align: left;\n",
       "    }\n",
       "\n",
       "    .dataframe tbody tr th {\n",
       "        vertical-align: top;\n",
       "    }\n",
       "</style>\n",
       "<table border=\"1\" class=\"dataframe\">\n",
       "  <thead>\n",
       "    <tr style=\"text-align: right;\">\n",
       "      <th></th>\n",
       "      <th>Tagging_Accuracy</th>\n",
       "    </tr>\n",
       "    <tr>\n",
       "      <th>Tagging_Algorithm</th>\n",
       "      <th></th>\n",
       "    </tr>\n",
       "  </thead>\n",
       "  <tbody>\n",
       "    <tr>\n",
       "      <th>Vanilla Viterbi</th>\n",
       "      <td>75.138122</td>\n",
       "    </tr>\n",
       "    <tr>\n",
       "      <th>Optimized Vanilla Viterbi</th>\n",
       "      <td>86.187845</td>\n",
       "    </tr>\n",
       "    <tr>\n",
       "      <th>Viterbi + Trigram_tagger</th>\n",
       "      <td>92.817680</td>\n",
       "    </tr>\n",
       "  </tbody>\n",
       "</table>\n",
       "</div>"
      ],
      "text/plain": [
       "                           Tagging_Accuracy\n",
       "Tagging_Algorithm                          \n",
       "Vanilla Viterbi                   75.138122\n",
       "Optimized Vanilla Viterbi         86.187845\n",
       "Viterbi + Trigram_tagger          92.817680"
      ]
     },
     "execution_count": 52,
     "metadata": {},
     "output_type": "execute_result"
    }
   ],
   "source": [
    "acccuracy_on_sample_test_data = [['Vanilla Viterbi', vanilla_viterbi_accuracy*100], \n",
    "                  ['Optimized Vanilla Viterbi', sample_test_optimized_viterbi_accuracy*100], \n",
    "                  ['Viterbi + Trigram_tagger', sample_test_viterbi_trigram_accuracy*100]]\n",
    "\n",
    "sample_test_data_acccuracy_df = pd.DataFrame(acccuracy_on_sample_test_data, columns = ['Tagging_Algorithm', 'Tagging_Accuracy'])\n",
    "\n",
    "sample_test_data_acccuracy_df.set_index('Tagging_Algorithm', drop = True, inplace = True)\n",
    "\n",
    "sample_test_data_acccuracy_df"
   ]
  },
  {
   "cell_type": "code",
   "execution_count": 55,
   "metadata": {},
   "outputs": [
    {
     "data": {
      "image/png": "[encoded data removed]",
      "text/plain": [
       "<matplotlib.figure.Figure at 0x183a9045e48>"
      ]
     },
     "metadata": {},
     "output_type": "display_data"
    }
   ],
   "source": [
    "sample_test_data_acccuracy_df.plot.line(rot = 90, legend = True)\n",
    "plt.show()"
   ]
  },
  {
   "cell_type": "markdown",
   "metadata": {},
   "source": [
    "### <font color=brown> Step 5: List down cases incorrectly tagged by original POS tagger and corrected by  modifications <a id='Step 5'></a> </font>"
   ]
  },
  {
   "cell_type": "code",
   "execution_count": 56,
   "metadata": {
    "collapsed": true
   },
   "outputs": [],
   "source": [
    "# test sentences\n",
    "test_sentence_1 = 'Android is a mobile operating system developed by Google.'\n",
    "test_sentence_2 = 'Android has been the best-selling OS worldwide on smartphones since 2011 and on tablets since 2013.'\n",
    "test_sentence_3 = \"Google and Twitter made a deal in 2015 that gave Google access to Twitter's firehose.\"\n",
    "test_sentence_4 = 'Twitter is an online news and social networking service on which users post and interact with messages known as tweets.'\n",
    "test_sentence_5 = 'Before entering politics, Donald Trump was a domineering businessman and a television personality.'\n",
    "test_sentence_6 = 'The 2018 FIFA World Cup is the 21st FIFA World Cup, an international football tournament contested once every four years.'\n",
    "test_sentence_7 = 'This is the first World Cup to be held in Eastern Europe and the 11th time that it has been held in Europe.'\n",
    "test_sentence_8 = 'Show me the cheapest round trips from Dallas to Atlanta'\n",
    "test_sentence_9 = 'I would like to see flights from Denver to Philadelphia.'\n",
    "test_sentence_10 = 'Show me the price of the flights leaving Atlanta at about 3 in the afternoon and arriving in San Francisco.'\n",
    "test_sentence_11 = 'NASA invited social media users to experience the launch of ICESAT-2 Satellite.'"
   ]
  },
  {
   "cell_type": "markdown",
   "metadata": {
    "collapsed": true
   },
   "source": [
    "<b> <u> Case - 1"
   ]
  },
  {
   "cell_type": "code",
   "execution_count": 57,
   "metadata": {},
   "outputs": [
    {
     "name": "stdout",
     "output_type": "stream",
     "text": [
      "Tagging sequence with Vanilla_Viterbi -\n",
      "\n",
      " [('Android', 'DET'), ('is', 'VERB'), ('a', 'DET'), ('mobile', 'ADJ'), ('operating', 'NOUN'), ('system', 'NOUN'), ('developed', 'VERB'), ('by', 'ADP'), ('Google', 'DET'), ('.', '.')]\n",
      "\n",
      "\n",
      "----------------------------------------------------------------------------------------------------\n",
      "Tagging sequence with viterbi_backedup_by_trigram_tagger -\n",
      "\n",
      " [('Android', 'NOUN'), ('is', 'VERB'), ('a', 'DET'), ('mobile', 'ADJ'), ('operating', 'NOUN'), ('system', 'NOUN'), ('developed', 'VERB'), ('by', 'ADP'), ('Google', 'NOUN'), ('.', '.')]\n"
     ]
    }
   ],
   "source": [
    "# test_sentence_1 = 'Android is a mobile operating system developed by Google.'\n",
    "\n",
    "words_test_sentence_1 = nltk.word_tokenize(test_sentence_1)\n",
    "\n",
    "# pos tags with Vanilla_Viterbi\n",
    "pos_tagged_sequence_with_vanilla_viterbi = Viterbi(words_test_sentence_1)\n",
    "print(\"Tagging sequence with Vanilla_Viterbi -\\n\\n\", pos_tagged_sequence_with_vanilla_viterbi)\n",
    "\n",
    "print('\\n')\n",
    "print('-'*100)\n",
    "\n",
    "# pos tags with viterbi_backedup_by_trigram_tagger\n",
    "pos_tagged_sequence_with_viterbi_trigram = viterbi_backedup_by_trigram_tagger(words_test_sentence_1)\n",
    "print(\"Tagging sequence with viterbi_backedup_by_trigram_tagger -\\n\\n\", pos_tagged_sequence_with_viterbi_trigram)"
   ]
  },
  {
   "cell_type": "code",
   "execution_count": 58,
   "metadata": {},
   "outputs": [
    {
     "data": {
      "text/html": [
       "<div>\n",
       "<style>\n",
       "    .dataframe thead tr:only-child th {\n",
       "        text-align: right;\n",
       "    }\n",
       "\n",
       "    .dataframe thead th {\n",
       "        text-align: left;\n",
       "    }\n",
       "\n",
       "    .dataframe tbody tr th {\n",
       "        vertical-align: top;\n",
       "    }\n",
       "</style>\n",
       "<table border=\"1\" class=\"dataframe\">\n",
       "  <thead>\n",
       "    <tr style=\"text-align: right;\">\n",
       "      <th></th>\n",
       "      <th>vanilla_viterbi_tags</th>\n",
       "      <th>viterbi_trigram_tags_with_corrections</th>\n",
       "    </tr>\n",
       "  </thead>\n",
       "  <tbody>\n",
       "    <tr>\n",
       "      <th>0</th>\n",
       "      <td>(Android, DET)</td>\n",
       "      <td>(Android, NOUN)</td>\n",
       "    </tr>\n",
       "    <tr>\n",
       "      <th>1</th>\n",
       "      <td>(is, VERB)</td>\n",
       "      <td>(is, VERB)</td>\n",
       "    </tr>\n",
       "    <tr>\n",
       "      <th>2</th>\n",
       "      <td>(a, DET)</td>\n",
       "      <td>(a, DET)</td>\n",
       "    </tr>\n",
       "    <tr>\n",
       "      <th>3</th>\n",
       "      <td>(mobile, ADJ)</td>\n",
       "      <td>(mobile, ADJ)</td>\n",
       "    </tr>\n",
       "    <tr>\n",
       "      <th>4</th>\n",
       "      <td>(operating, NOUN)</td>\n",
       "      <td>(operating, NOUN)</td>\n",
       "    </tr>\n",
       "    <tr>\n",
       "      <th>5</th>\n",
       "      <td>(system, NOUN)</td>\n",
       "      <td>(system, NOUN)</td>\n",
       "    </tr>\n",
       "    <tr>\n",
       "      <th>6</th>\n",
       "      <td>(developed, VERB)</td>\n",
       "      <td>(developed, VERB)</td>\n",
       "    </tr>\n",
       "    <tr>\n",
       "      <th>7</th>\n",
       "      <td>(by, ADP)</td>\n",
       "      <td>(by, ADP)</td>\n",
       "    </tr>\n",
       "    <tr>\n",
       "      <th>8</th>\n",
       "      <td>(Google, DET)</td>\n",
       "      <td>(Google, NOUN)</td>\n",
       "    </tr>\n",
       "    <tr>\n",
       "      <th>9</th>\n",
       "      <td>(., .)</td>\n",
       "      <td>(., .)</td>\n",
       "    </tr>\n",
       "  </tbody>\n",
       "</table>\n",
       "</div>"
      ],
      "text/plain": [
       "  vanilla_viterbi_tags viterbi_trigram_tags_with_corrections\n",
       "0       (Android, DET)                       (Android, NOUN)\n",
       "1           (is, VERB)                            (is, VERB)\n",
       "2             (a, DET)                              (a, DET)\n",
       "3        (mobile, ADJ)                         (mobile, ADJ)\n",
       "4    (operating, NOUN)                     (operating, NOUN)\n",
       "5       (system, NOUN)                        (system, NOUN)\n",
       "6    (developed, VERB)                     (developed, VERB)\n",
       "7            (by, ADP)                             (by, ADP)\n",
       "8        (Google, DET)                        (Google, NOUN)\n",
       "9               (., .)                                (., .)"
      ]
     },
     "execution_count": 58,
     "metadata": {},
     "output_type": "execute_result"
    }
   ],
   "source": [
    "cols = ['vanilla_viterbi_tags', 'viterbi_trigram_tags_with_corrections']\n",
    "tags_correction_df_1 = pd.DataFrame(columns = cols)\n",
    "tags_correction_df_1 = tags_correction_df_1.fillna(0)\n",
    "\n",
    "tags_correction_df_1.vanilla_viterbi_tags = [tup for tup in pos_tagged_sequence_with_vanilla_viterbi]\n",
    "tags_correction_df_1.viterbi_trigram_tags_with_corrections = [tup for tup in pos_tagged_sequence_with_viterbi_trigram]\n",
    "\n",
    "tags_correction_df_1"
   ]
  },
  {
   "cell_type": "markdown",
   "metadata": {
    "collapsed": true
   },
   "source": [
    "As we see above in the sample test sentence 1, the word 'Android' was tagged as DET by vanilla viterbi. The modified algorithm of viterbi backed up by trigram tagger corrected this and tagged 'Android' as NOUN."
   ]
  },
  {
   "cell_type": "markdown",
   "metadata": {},
   "source": [
    "<b> <u> Case - 2"
   ]
  },
  {
   "cell_type": "code",
   "execution_count": 59,
   "metadata": {},
   "outputs": [
    {
     "name": "stdout",
     "output_type": "stream",
     "text": [
      "Tagging sequence with Vanilla_Viterbi -\n",
      "\n",
      " [('The', 'DET'), ('2018', 'DET'), ('FIFA', 'DET'), ('World', 'NOUN'), ('Cup', 'DET'), ('is', 'VERB'), ('the', 'DET'), ('21st', 'DET'), ('FIFA', 'DET'), ('World', 'NOUN'), ('Cup', 'DET'), (',', '.'), ('an', 'DET'), ('international', 'ADJ'), ('football', 'NOUN'), ('tournament', 'DET'), ('contested', 'DET'), ('once', 'ADV'), ('every', 'DET'), ('four', 'NUM'), ('years', 'NOUN'), ('.', '.')]\n",
      "\n",
      "\n",
      "----------------------------------------------------------------------------------------------------\n",
      "Tagging sequence with viterbi_backedup_by_trigram_tagger -\n",
      "\n",
      " [('The', 'DET'), ('2018', 'NUM'), ('FIFA', 'NOUN'), ('World', 'NOUN'), ('Cup', 'NOUN'), ('is', 'VERB'), ('the', 'DET'), ('21st', 'NUM'), ('FIFA', 'NOUN'), ('World', 'NOUN'), ('Cup', 'NOUN'), (',', '.'), ('an', 'DET'), ('international', 'ADJ'), ('football', 'NOUN'), ('tournament', 'NOUN'), ('contested', 'VERB'), ('once', 'ADV'), ('every', 'DET'), ('four', 'NUM'), ('years', 'NOUN'), ('.', '.')]\n"
     ]
    }
   ],
   "source": [
    "# test_sentence_6 = 'The 2018 FIFA World Cup is the 21st FIFA World Cup, \n",
    "#                   an international football tournament contested once every four years.'\n",
    "\n",
    "words_test_sentence_6 = nltk.word_tokenize(test_sentence_6)\n",
    "\n",
    "# pos tags with Vanilla_Viterbi\n",
    "pos_tagged_sequence_with_vanilla_viterbi_6 = Viterbi(words_test_sentence_6)\n",
    "print(\"Tagging sequence with Vanilla_Viterbi -\\n\\n\", pos_tagged_sequence_with_vanilla_viterbi_6)\n",
    "\n",
    "print('\\n')\n",
    "print('-'*100)\n",
    "\n",
    "# pos tags with viterbi_backedup_by_trigram_tagger\n",
    "pos_tagged_sequence_with_viterbi_trigram_6 = viterbi_backedup_by_trigram_tagger(words_test_sentence_6)\n",
    "print(\"Tagging sequence with viterbi_backedup_by_trigram_tagger -\\n\\n\", pos_tagged_sequence_with_viterbi_trigram_6)"
   ]
  },
  {
   "cell_type": "code",
   "execution_count": 60,
   "metadata": {},
   "outputs": [
    {
     "data": {
      "text/html": [
       "<div>\n",
       "<style>\n",
       "    .dataframe thead tr:only-child th {\n",
       "        text-align: right;\n",
       "    }\n",
       "\n",
       "    .dataframe thead th {\n",
       "        text-align: left;\n",
       "    }\n",
       "\n",
       "    .dataframe tbody tr th {\n",
       "        vertical-align: top;\n",
       "    }\n",
       "</style>\n",
       "<table border=\"1\" class=\"dataframe\">\n",
       "  <thead>\n",
       "    <tr style=\"text-align: right;\">\n",
       "      <th></th>\n",
       "      <th>vanilla_viterbi_tags</th>\n",
       "      <th>viterbi_trigram_tags_with_corrections</th>\n",
       "    </tr>\n",
       "  </thead>\n",
       "  <tbody>\n",
       "    <tr>\n",
       "      <th>0</th>\n",
       "      <td>(The, DET)</td>\n",
       "      <td>(The, DET)</td>\n",
       "    </tr>\n",
       "    <tr>\n",
       "      <th>1</th>\n",
       "      <td>(2018, DET)</td>\n",
       "      <td>(2018, NUM)</td>\n",
       "    </tr>\n",
       "    <tr>\n",
       "      <th>2</th>\n",
       "      <td>(FIFA, DET)</td>\n",
       "      <td>(FIFA, NOUN)</td>\n",
       "    </tr>\n",
       "    <tr>\n",
       "      <th>3</th>\n",
       "      <td>(World, NOUN)</td>\n",
       "      <td>(World, NOUN)</td>\n",
       "    </tr>\n",
       "    <tr>\n",
       "      <th>4</th>\n",
       "      <td>(Cup, DET)</td>\n",
       "      <td>(Cup, NOUN)</td>\n",
       "    </tr>\n",
       "    <tr>\n",
       "      <th>5</th>\n",
       "      <td>(is, VERB)</td>\n",
       "      <td>(is, VERB)</td>\n",
       "    </tr>\n",
       "    <tr>\n",
       "      <th>6</th>\n",
       "      <td>(the, DET)</td>\n",
       "      <td>(the, DET)</td>\n",
       "    </tr>\n",
       "    <tr>\n",
       "      <th>7</th>\n",
       "      <td>(21st, DET)</td>\n",
       "      <td>(21st, NUM)</td>\n",
       "    </tr>\n",
       "    <tr>\n",
       "      <th>8</th>\n",
       "      <td>(FIFA, DET)</td>\n",
       "      <td>(FIFA, NOUN)</td>\n",
       "    </tr>\n",
       "    <tr>\n",
       "      <th>9</th>\n",
       "      <td>(World, NOUN)</td>\n",
       "      <td>(World, NOUN)</td>\n",
       "    </tr>\n",
       "    <tr>\n",
       "      <th>10</th>\n",
       "      <td>(Cup, DET)</td>\n",
       "      <td>(Cup, NOUN)</td>\n",
       "    </tr>\n",
       "    <tr>\n",
       "      <th>11</th>\n",
       "      <td>(,, .)</td>\n",
       "      <td>(,, .)</td>\n",
       "    </tr>\n",
       "    <tr>\n",
       "      <th>12</th>\n",
       "      <td>(an, DET)</td>\n",
       "      <td>(an, DET)</td>\n",
       "    </tr>\n",
       "    <tr>\n",
       "      <th>13</th>\n",
       "      <td>(international, ADJ)</td>\n",
       "      <td>(international, ADJ)</td>\n",
       "    </tr>\n",
       "    <tr>\n",
       "      <th>14</th>\n",
       "      <td>(football, NOUN)</td>\n",
       "      <td>(football, NOUN)</td>\n",
       "    </tr>\n",
       "    <tr>\n",
       "      <th>15</th>\n",
       "      <td>(tournament, DET)</td>\n",
       "      <td>(tournament, NOUN)</td>\n",
       "    </tr>\n",
       "    <tr>\n",
       "      <th>16</th>\n",
       "      <td>(contested, DET)</td>\n",
       "      <td>(contested, VERB)</td>\n",
       "    </tr>\n",
       "    <tr>\n",
       "      <th>17</th>\n",
       "      <td>(once, ADV)</td>\n",
       "      <td>(once, ADV)</td>\n",
       "    </tr>\n",
       "    <tr>\n",
       "      <th>18</th>\n",
       "      <td>(every, DET)</td>\n",
       "      <td>(every, DET)</td>\n",
       "    </tr>\n",
       "    <tr>\n",
       "      <th>19</th>\n",
       "      <td>(four, NUM)</td>\n",
       "      <td>(four, NUM)</td>\n",
       "    </tr>\n",
       "    <tr>\n",
       "      <th>20</th>\n",
       "      <td>(years, NOUN)</td>\n",
       "      <td>(years, NOUN)</td>\n",
       "    </tr>\n",
       "    <tr>\n",
       "      <th>21</th>\n",
       "      <td>(., .)</td>\n",
       "      <td>(., .)</td>\n",
       "    </tr>\n",
       "  </tbody>\n",
       "</table>\n",
       "</div>"
      ],
      "text/plain": [
       "    vanilla_viterbi_tags viterbi_trigram_tags_with_corrections\n",
       "0             (The, DET)                            (The, DET)\n",
       "1            (2018, DET)                           (2018, NUM)\n",
       "2            (FIFA, DET)                          (FIFA, NOUN)\n",
       "3          (World, NOUN)                         (World, NOUN)\n",
       "4             (Cup, DET)                           (Cup, NOUN)\n",
       "5             (is, VERB)                            (is, VERB)\n",
       "6             (the, DET)                            (the, DET)\n",
       "7            (21st, DET)                           (21st, NUM)\n",
       "8            (FIFA, DET)                          (FIFA, NOUN)\n",
       "9          (World, NOUN)                         (World, NOUN)\n",
       "10            (Cup, DET)                           (Cup, NOUN)\n",
       "11                (,, .)                                (,, .)\n",
       "12             (an, DET)                             (an, DET)\n",
       "13  (international, ADJ)                  (international, ADJ)\n",
       "14      (football, NOUN)                      (football, NOUN)\n",
       "15     (tournament, DET)                    (tournament, NOUN)\n",
       "16      (contested, DET)                     (contested, VERB)\n",
       "17           (once, ADV)                           (once, ADV)\n",
       "18          (every, DET)                          (every, DET)\n",
       "19           (four, NUM)                           (four, NUM)\n",
       "20         (years, NOUN)                         (years, NOUN)\n",
       "21                (., .)                                (., .)"
      ]
     },
     "execution_count": 60,
     "metadata": {},
     "output_type": "execute_result"
    }
   ],
   "source": [
    "tags_correction_df_6 = pd.DataFrame(columns = cols)\n",
    "tags_correction_df_6 = tags_correction_df_6.fillna(0)\n",
    "\n",
    "tags_correction_df_6.vanilla_viterbi_tags = [tup for tup in pos_tagged_sequence_with_vanilla_viterbi_6]\n",
    "tags_correction_df_6.viterbi_trigram_tags_with_corrections = [tup for tup in pos_tagged_sequence_with_viterbi_trigram_6]\n",
    "\n",
    "tags_correction_df_6"
   ]
  },
  {
   "cell_type": "markdown",
   "metadata": {},
   "source": [
    "As we see above in the sample test sentence 6 the following words were incorrectly tagged by the vanilla viterbi algorithm - '2018' - PRT, 'FIFA' - PRT, 'Cup' - PRT, '21st' - PRT, 'tournament' - PRT, 'contested' - PRT.\n",
    "The above words were corrected by viterbi backed up by the trigram tagger. The corrections were made as - '2018' - NUM, 'FIFA' - NOUN, 'Cup' - NOUN, '21st' - NUM, 'tournament' - NOUN, 'contested' - VERB."
   ]
  },
  {
   "cell_type": "markdown",
   "metadata": {},
   "source": [
    "<b> <u> Case - 3"
   ]
  },
  {
   "cell_type": "code",
   "execution_count": 61,
   "metadata": {},
   "outputs": [
    {
     "name": "stdout",
     "output_type": "stream",
     "text": [
      "Tagging sequence with Vanilla_Viterbi -\n",
      "\n",
      " [('Show', 'NOUN'), ('me', 'PRON'), ('the', 'DET'), ('cheapest', 'ADJ'), ('round', 'NOUN'), ('trips', 'DET'), ('from', 'ADP'), ('Dallas', 'NOUN'), ('to', 'PRT'), ('Atlanta', 'NOUN')]\n",
      "\n",
      "\n",
      "----------------------------------------------------------------------------------------------------\n",
      "Tagging sequence with viterbi_backedup_by_trigram_tagger -\n",
      "\n",
      " [('Show', 'NOUN'), ('me', 'PRON'), ('the', 'DET'), ('cheapest', 'ADJ'), ('round', 'NOUN'), ('trips', 'NOUN'), ('from', 'ADP'), ('Dallas', 'NOUN'), ('to', 'PRT'), ('Atlanta', 'NOUN')]\n"
     ]
    }
   ],
   "source": [
    "# test_sentence_8 = 'Show me the cheapest round trips from Dallas to Atlanta'\n",
    "\n",
    "words_test_sentence_8 = nltk.word_tokenize(test_sentence_8)\n",
    "\n",
    "# pos tags with Vanilla_Viterbi\n",
    "pos_tagged_sequence_with_vanilla_viterbi_8 = Viterbi(words_test_sentence_8)\n",
    "print(\"Tagging sequence with Vanilla_Viterbi -\\n\\n\", pos_tagged_sequence_with_vanilla_viterbi_8)\n",
    "\n",
    "print('\\n')\n",
    "print('-'*100)\n",
    "\n",
    "# pos tags with viterbi_backedup_by_trigram_tagger\n",
    "pos_tagged_sequence_with_viterbi_trigram_8 = viterbi_backedup_by_trigram_tagger(words_test_sentence_8)\n",
    "print(\"Tagging sequence with viterbi_backedup_by_trigram_tagger -\\n\\n\", pos_tagged_sequence_with_viterbi_trigram_8)"
   ]
  },
  {
   "cell_type": "code",
   "execution_count": 62,
   "metadata": {},
   "outputs": [
    {
     "data": {
      "text/html": [
       "<div>\n",
       "<style>\n",
       "    .dataframe thead tr:only-child th {\n",
       "        text-align: right;\n",
       "    }\n",
       "\n",
       "    .dataframe thead th {\n",
       "        text-align: left;\n",
       "    }\n",
       "\n",
       "    .dataframe tbody tr th {\n",
       "        vertical-align: top;\n",
       "    }\n",
       "</style>\n",
       "<table border=\"1\" class=\"dataframe\">\n",
       "  <thead>\n",
       "    <tr style=\"text-align: right;\">\n",
       "      <th></th>\n",
       "      <th>vanilla_viterbi_tags</th>\n",
       "      <th>viterbi_trigram_tags_with_corrections</th>\n",
       "    </tr>\n",
       "  </thead>\n",
       "  <tbody>\n",
       "    <tr>\n",
       "      <th>0</th>\n",
       "      <td>(Show, NOUN)</td>\n",
       "      <td>(Show, NOUN)</td>\n",
       "    </tr>\n",
       "    <tr>\n",
       "      <th>1</th>\n",
       "      <td>(me, PRON)</td>\n",
       "      <td>(me, PRON)</td>\n",
       "    </tr>\n",
       "    <tr>\n",
       "      <th>2</th>\n",
       "      <td>(the, DET)</td>\n",
       "      <td>(the, DET)</td>\n",
       "    </tr>\n",
       "    <tr>\n",
       "      <th>3</th>\n",
       "      <td>(cheapest, ADJ)</td>\n",
       "      <td>(cheapest, ADJ)</td>\n",
       "    </tr>\n",
       "    <tr>\n",
       "      <th>4</th>\n",
       "      <td>(round, NOUN)</td>\n",
       "      <td>(round, NOUN)</td>\n",
       "    </tr>\n",
       "    <tr>\n",
       "      <th>5</th>\n",
       "      <td>(trips, DET)</td>\n",
       "      <td>(trips, NOUN)</td>\n",
       "    </tr>\n",
       "    <tr>\n",
       "      <th>6</th>\n",
       "      <td>(from, ADP)</td>\n",
       "      <td>(from, ADP)</td>\n",
       "    </tr>\n",
       "    <tr>\n",
       "      <th>7</th>\n",
       "      <td>(Dallas, NOUN)</td>\n",
       "      <td>(Dallas, NOUN)</td>\n",
       "    </tr>\n",
       "    <tr>\n",
       "      <th>8</th>\n",
       "      <td>(to, PRT)</td>\n",
       "      <td>(to, PRT)</td>\n",
       "    </tr>\n",
       "    <tr>\n",
       "      <th>9</th>\n",
       "      <td>(Atlanta, NOUN)</td>\n",
       "      <td>(Atlanta, NOUN)</td>\n",
       "    </tr>\n",
       "  </tbody>\n",
       "</table>\n",
       "</div>"
      ],
      "text/plain": [
       "  vanilla_viterbi_tags viterbi_trigram_tags_with_corrections\n",
       "0         (Show, NOUN)                          (Show, NOUN)\n",
       "1           (me, PRON)                            (me, PRON)\n",
       "2           (the, DET)                            (the, DET)\n",
       "3      (cheapest, ADJ)                       (cheapest, ADJ)\n",
       "4        (round, NOUN)                         (round, NOUN)\n",
       "5         (trips, DET)                         (trips, NOUN)\n",
       "6          (from, ADP)                           (from, ADP)\n",
       "7       (Dallas, NOUN)                        (Dallas, NOUN)\n",
       "8            (to, PRT)                             (to, PRT)\n",
       "9      (Atlanta, NOUN)                       (Atlanta, NOUN)"
      ]
     },
     "execution_count": 62,
     "metadata": {},
     "output_type": "execute_result"
    }
   ],
   "source": [
    "tags_correction_df_8 = pd.DataFrame(columns = cols)\n",
    "tags_correction_df_8 = tags_correction_df_8.fillna(0)\n",
    "\n",
    "tags_correction_df_8.vanilla_viterbi_tags = [tup for tup in pos_tagged_sequence_with_vanilla_viterbi_8]\n",
    "tags_correction_df_8.viterbi_trigram_tags_with_corrections = [tup for tup in pos_tagged_sequence_with_viterbi_trigram_8]\n",
    "\n",
    "tags_correction_df_8"
   ]
  },
  {
   "cell_type": "markdown",
   "metadata": {
    "collapsed": true
   },
   "source": [
    "\n",
    "As we see in the sample test sentence 8, the vanilla viterbi tagged 'trips' as PRT. This was corrected by the modified viterbi algorithm (backed up by the trigram tagger) and tagged as NOUN.\n",
    "Now lets see the tags and corrections for all the sample test sentences with both the methods.\n",
    "Method 1 - We used only the transition probability for unknown words.\n",
    "Method 2 - We used the viterbi algorithm and backed it up with the trigram tagger which was inturn backed up by the rule based regex tagger."
   ]
  },
  {
   "cell_type": "code",
   "execution_count": 63,
   "metadata": {},
   "outputs": [
    {
     "name": "stdout",
     "output_type": "stream",
     "text": [
      "Tagging sequence with Vanilla_Viterbi -\n",
      "\n",
      " [('Android', 'DET'), ('is', 'VERB'), ('a', 'DET'), ('mobile', 'ADJ'), ('operating', 'NOUN'), ('system', 'NOUN'), ('developed', 'VERB'), ('by', 'ADP'), ('Google', 'DET'), ('.', '.'), ('Android', 'DET'), ('has', 'VERB'), ('been', 'VERB'), ('the', 'DET'), ('best-selling', 'ADJ'), ('OS', 'DET'), ('worldwide', 'DET'), ('on', 'ADP'), ('smartphones', 'DET'), ('since', 'ADP'), ('2011', 'DET'), ('and', 'CONJ'), ('on', 'ADP'), ('tablets', 'NOUN'), ('since', 'ADP'), ('2013', 'DET'), ('.', '.'), ('Google', 'DET'), ('and', 'CONJ'), ('Twitter', 'DET'), ('made', 'VERB'), ('a', 'DET'), ('deal', 'NOUN'), ('in', 'ADP'), ('2015', 'DET'), ('that', 'ADP'), ('gave', 'VERB'), ('Google', 'DET'), ('access', 'NOUN'), ('to', 'PRT'), ('Twitter', 'DET'), (\"'s\", 'VERB'), ('firehose', 'DET'), ('.', '.'), ('Twitter', 'DET'), ('is', 'VERB'), ('an', 'DET'), ('online', 'DET'), ('news', 'NOUN'), ('and', 'CONJ'), ('social', 'ADJ'), ('networking', 'NOUN'), ('service', 'NOUN'), ('on', 'ADP'), ('which', 'DET'), ('users', 'NOUN'), ('post', 'NOUN'), ('and', 'CONJ'), ('interact', 'DET'), ('with', 'ADP'), ('messages', 'DET'), ('known', 'VERB'), ('as', 'ADP'), ('tweets', 'DET'), ('.', '.'), ('Before', 'ADP'), ('entering', 'VERB'), ('politics', 'NOUN'), (',', '.'), ('Donald', 'NOUN'), ('Trump', 'NOUN'), ('was', 'VERB'), ('a', 'DET'), ('domineering', 'DET'), ('businessman', 'NOUN'), ('and', 'CONJ'), ('a', 'DET'), ('television', 'NOUN'), ('personality', 'DET'), ('.', '.'), ('The', 'DET'), ('2018', 'DET'), ('FIFA', 'DET'), ('World', 'NOUN'), ('Cup', 'DET'), ('is', 'VERB'), ('the', 'DET'), ('21st', 'DET'), ('FIFA', 'DET'), ('World', 'NOUN'), ('Cup', 'DET'), (',', '.'), ('an', 'DET'), ('international', 'ADJ'), ('football', 'NOUN'), ('tournament', 'DET'), ('contested', 'DET'), ('once', 'ADV'), ('every', 'DET'), ('four', 'NUM'), ('years', 'NOUN'), ('.', '.'), ('This', 'DET'), ('is', 'VERB'), ('the', 'DET'), ('first', 'ADJ'), ('World', 'NOUN'), ('Cup', 'DET'), ('to', 'PRT'), ('be', 'VERB'), ('held', 'VERB'), ('in', 'ADP'), ('Eastern', 'NOUN'), ('Europe', 'NOUN'), ('and', 'CONJ'), ('the', 'DET'), ('11th', 'ADJ'), ('time', 'NOUN'), ('that', 'ADP'), ('it', 'PRON'), ('has', 'VERB'), ('been', 'VERB'), ('held', 'VERB'), ('in', 'ADP'), ('Europe', 'NOUN'), ('.', '.'), ('Show', 'NOUN'), ('me', 'PRON'), ('the', 'DET'), ('cheapest', 'ADJ'), ('round', 'NOUN'), ('trips', 'DET'), ('from', 'ADP'), ('Dallas', 'NOUN'), ('to', 'PRT'), ('Atlanta', 'NOUN'), ('I', 'PRON'), ('would', 'VERB'), ('like', 'ADP'), ('to', 'PRT'), ('see', 'VERB'), ('flights', 'NOUN'), ('from', 'ADP'), ('Denver', 'NOUN'), ('to', 'PRT'), ('Philadelphia', 'NOUN'), ('.', '.'), ('Show', 'NOUN'), ('me', 'PRON'), ('the', 'DET'), ('price', 'NOUN'), ('of', 'ADP'), ('the', 'DET'), ('flights', 'NOUN'), ('leaving', 'VERB'), ('Atlanta', 'NOUN'), ('at', 'ADP'), ('about', 'ADP'), ('3', 'NUM'), ('in', 'ADP'), ('the', 'DET'), ('afternoon', 'NOUN'), ('and', 'CONJ'), ('arriving', 'DET'), ('in', 'ADP'), ('San', 'NOUN'), ('Francisco', 'NOUN'), ('.', '.'), ('NASA', 'DET'), ('invited', 'DET'), ('social', 'ADJ'), ('media', 'NOUN'), ('users', 'NOUN'), ('to', 'PRT'), ('experience', 'NOUN'), ('the', 'DET'), ('launch', 'NOUN'), ('of', 'ADP'), ('ICESAT-2', 'DET'), ('Satellite', 'DET'), ('.', '.')]\n",
      "\n",
      "\n",
      "----------------------------------------------------------------------------------------------------\n",
      "Tagging sequence with viterbi using only transition probability for unknown words -\n",
      "\n",
      " [('Android', 'NOUN'), ('is', 'VERB'), ('a', 'DET'), ('mobile', 'ADJ'), ('operating', 'NOUN'), ('system', 'NOUN'), ('developed', 'VERB'), ('by', 'ADP'), ('Google', 'DET'), ('.', '.'), ('Android', 'NOUN'), ('has', 'VERB'), ('been', 'VERB'), ('the', 'DET'), ('best-selling', 'ADJ'), ('OS', 'NOUN'), ('worldwide', 'NOUN'), ('on', 'ADP'), ('smartphones', 'DET'), ('since', 'ADP'), ('2011', 'DET'), ('and', 'CONJ'), ('on', 'ADP'), ('tablets', 'NOUN'), ('since', 'ADP'), ('2013', 'DET'), ('.', '.'), ('Google', 'NOUN'), ('and', 'CONJ'), ('Twitter', 'NOUN'), ('made', 'VERB'), ('a', 'DET'), ('deal', 'NOUN'), ('in', 'ADP'), ('2015', 'DET'), ('that', 'ADP'), ('gave', 'VERB'), ('Google', 'X'), ('access', 'NOUN'), ('to', 'PRT'), ('Twitter', 'VERB'), (\"'s\", 'PRT'), ('firehose', 'VERB'), ('.', '.'), ('Twitter', 'NOUN'), ('is', 'VERB'), ('an', 'DET'), ('online', 'NOUN'), ('news', 'NOUN'), ('and', 'CONJ'), ('social', 'ADJ'), ('networking', 'NOUN'), ('service', 'NOUN'), ('on', 'ADP'), ('which', 'DET'), ('users', 'NOUN'), ('post', 'NOUN'), ('and', 'CONJ'), ('interact', 'NOUN'), ('with', 'ADP'), ('messages', 'DET'), ('known', 'VERB'), ('as', 'ADP'), ('tweets', 'DET'), ('.', '.'), ('Before', 'ADP'), ('entering', 'VERB'), ('politics', 'NOUN'), (',', '.'), ('Donald', 'NOUN'), ('Trump', 'NOUN'), ('was', 'VERB'), ('a', 'DET'), ('domineering', 'NOUN'), ('businessman', 'NOUN'), ('and', 'CONJ'), ('a', 'DET'), ('television', 'NOUN'), ('personality', 'NOUN'), ('.', '.'), ('The', 'DET'), ('2018', 'NOUN'), ('FIFA', 'NOUN'), ('World', 'NOUN'), ('Cup', 'NOUN'), ('is', 'VERB'), ('the', 'DET'), ('21st', 'NOUN'), ('FIFA', 'NOUN'), ('World', 'NOUN'), ('Cup', 'NOUN'), (',', '.'), ('an', 'DET'), ('international', 'ADJ'), ('football', 'NOUN'), ('tournament', 'NOUN'), ('contested', 'NOUN'), ('once', 'ADV'), ('every', 'DET'), ('four', 'NUM'), ('years', 'NOUN'), ('.', '.'), ('This', 'DET'), ('is', 'VERB'), ('the', 'DET'), ('first', 'ADJ'), ('World', 'NOUN'), ('Cup', 'NOUN'), ('to', 'PRT'), ('be', 'VERB'), ('held', 'VERB'), ('in', 'ADP'), ('Eastern', 'NOUN'), ('Europe', 'NOUN'), ('and', 'CONJ'), ('the', 'DET'), ('11th', 'ADJ'), ('time', 'NOUN'), ('that', 'ADP'), ('it', 'PRON'), ('has', 'VERB'), ('been', 'VERB'), ('held', 'VERB'), ('in', 'ADP'), ('Europe', 'NOUN'), ('.', '.'), ('Show', 'NOUN'), ('me', 'PRON'), ('the', 'DET'), ('cheapest', 'ADJ'), ('round', 'NOUN'), ('trips', 'NOUN'), ('from', 'ADP'), ('Dallas', 'NOUN'), ('to', 'PRT'), ('Atlanta', 'NOUN'), ('I', 'PRON'), ('would', 'VERB'), ('like', 'ADP'), ('to', 'PRT'), ('see', 'VERB'), ('flights', 'NOUN'), ('from', 'ADP'), ('Denver', 'NOUN'), ('to', 'PRT'), ('Philadelphia', 'NOUN'), ('.', '.'), ('Show', 'NOUN'), ('me', 'PRON'), ('the', 'DET'), ('price', 'NOUN'), ('of', 'ADP'), ('the', 'DET'), ('flights', 'NOUN'), ('leaving', 'VERB'), ('Atlanta', 'NOUN'), ('at', 'ADP'), ('about', 'ADP'), ('3', 'NUM'), ('in', 'ADP'), ('the', 'DET'), ('afternoon', 'NOUN'), ('and', 'CONJ'), ('arriving', 'NOUN'), ('in', 'ADP'), ('San', 'NOUN'), ('Francisco', 'NOUN'), ('.', '.'), ('NASA', 'NOUN'), ('invited', 'NOUN'), ('social', 'ADJ'), ('media', 'NOUN'), ('users', 'NOUN'), ('to', 'PRT'), ('experience', 'NOUN'), ('the', 'DET'), ('launch', 'NOUN'), ('of', 'ADP'), ('ICESAT-2', 'DET'), ('Satellite', 'NOUN'), ('.', '.')]\n",
      "\n",
      "\n",
      "----------------------------------------------------------------------------------------------------\n",
      "Tagging sequence with viterbi_backedup_by_trigram_tagger -\n",
      "\n",
      " [('Android', 'NOUN'), ('is', 'VERB'), ('a', 'DET'), ('mobile', 'ADJ'), ('operating', 'NOUN'), ('system', 'NOUN'), ('developed', 'VERB'), ('by', 'ADP'), ('Google', 'NOUN'), ('.', '.'), ('Android', 'NOUN'), ('has', 'VERB'), ('been', 'VERB'), ('the', 'DET'), ('best-selling', 'ADJ'), ('OS', 'NOUN'), ('worldwide', 'NOUN'), ('on', 'ADP'), ('smartphones', 'VERB'), ('since', 'ADP'), ('2011', 'NUM'), ('and', 'CONJ'), ('on', 'ADP'), ('tablets', 'NOUN'), ('since', 'ADP'), ('2013', 'NUM'), ('.', '.'), ('Google', 'NOUN'), ('and', 'CONJ'), ('Twitter', 'NOUN'), ('made', 'VERB'), ('a', 'DET'), ('deal', 'NOUN'), ('in', 'ADP'), ('2015', 'NUM'), ('that', 'ADP'), ('gave', 'VERB'), ('Google', 'NOUN'), ('access', 'NOUN'), ('to', 'PRT'), ('Twitter', 'NOUN'), (\"'s\", 'PRT'), ('firehose', 'NOUN'), ('.', '.'), ('Twitter', 'NOUN'), ('is', 'VERB'), ('an', 'DET'), ('online', 'NOUN'), ('news', 'NOUN'), ('and', 'CONJ'), ('social', 'ADJ'), ('networking', 'NOUN'), ('service', 'NOUN'), ('on', 'ADP'), ('which', 'DET'), ('users', 'NOUN'), ('post', 'NOUN'), ('and', 'CONJ'), ('interact', 'NOUN'), ('with', 'ADP'), ('messages', 'VERB'), ('known', 'VERB'), ('as', 'ADP'), ('tweets', 'NOUN'), ('.', '.'), ('Before', 'ADP'), ('entering', 'VERB'), ('politics', 'NOUN'), (',', '.'), ('Donald', 'NOUN'), ('Trump', 'NOUN'), ('was', 'VERB'), ('a', 'DET'), ('domineering', 'VERB'), ('businessman', 'NOUN'), ('and', 'CONJ'), ('a', 'DET'), ('television', 'NOUN'), ('personality', 'NOUN'), ('.', '.'), ('The', 'DET'), ('2018', 'NUM'), ('FIFA', 'NOUN'), ('World', 'NOUN'), ('Cup', 'NOUN'), ('is', 'VERB'), ('the', 'DET'), ('21st', 'NUM'), ('FIFA', 'NOUN'), ('World', 'NOUN'), ('Cup', 'NOUN'), (',', '.'), ('an', 'DET'), ('international', 'ADJ'), ('football', 'NOUN'), ('tournament', 'NOUN'), ('contested', 'VERB'), ('once', 'ADV'), ('every', 'DET'), ('four', 'NUM'), ('years', 'NOUN'), ('.', '.'), ('This', 'DET'), ('is', 'VERB'), ('the', 'DET'), ('first', 'ADJ'), ('World', 'NOUN'), ('Cup', 'NOUN'), ('to', 'PRT'), ('be', 'VERB'), ('held', 'VERB'), ('in', 'ADP'), ('Eastern', 'NOUN'), ('Europe', 'NOUN'), ('and', 'CONJ'), ('the', 'DET'), ('11th', 'ADJ'), ('time', 'NOUN'), ('that', 'ADP'), ('it', 'PRON'), ('has', 'VERB'), ('been', 'VERB'), ('held', 'VERB'), ('in', 'ADP'), ('Europe', 'NOUN'), ('.', '.'), ('Show', 'NOUN'), ('me', 'PRON'), ('the', 'DET'), ('cheapest', 'ADJ'), ('round', 'NOUN'), ('trips', 'NOUN'), ('from', 'ADP'), ('Dallas', 'NOUN'), ('to', 'PRT'), ('Atlanta', 'NOUN'), ('I', 'PRON'), ('would', 'VERB'), ('like', 'ADP'), ('to', 'PRT'), ('see', 'VERB'), ('flights', 'NOUN'), ('from', 'ADP'), ('Denver', 'NOUN'), ('to', 'PRT'), ('Philadelphia', 'NOUN'), ('.', '.'), ('Show', 'NOUN'), ('me', 'PRON'), ('the', 'DET'), ('price', 'NOUN'), ('of', 'ADP'), ('the', 'DET'), ('flights', 'NOUN'), ('leaving', 'VERB'), ('Atlanta', 'NOUN'), ('at', 'ADP'), ('about', 'ADP'), ('3', 'NUM'), ('in', 'ADP'), ('the', 'DET'), ('afternoon', 'NOUN'), ('and', 'CONJ'), ('arriving', 'VERB'), ('in', 'ADP'), ('San', 'NOUN'), ('Francisco', 'NOUN'), ('.', '.'), ('NASA', 'NOUN'), ('invited', 'VERB'), ('social', 'ADJ'), ('media', 'NOUN'), ('users', 'NOUN'), ('to', 'PRT'), ('experience', 'NOUN'), ('the', 'DET'), ('launch', 'NOUN'), ('of', 'ADP'), ('ICESAT-2', 'NOUN'), ('Satellite', 'NOUN'), ('.', '.')]\n"
     ]
    }
   ],
   "source": [
    "# Default Vanilla Viterbi\n",
    "# pos tags with Vanilla_Viterbi\n",
    "sample_test_tagged_sequence_with_vanilla_viterbi = Viterbi(sample_test_tagged_words)\n",
    "print(\"Tagging sequence with Vanilla_Viterbi -\\n\\n\", sample_test_tagged_sequence_with_vanilla_viterbi)\n",
    "\n",
    "print('\\n')\n",
    "print('-'*100)\n",
    "\n",
    "# Method 1 - pos tags with Vanilla_Viterbi_for_Unknown_Words\n",
    "sample_test_tagged_sequence_unknown_words = Vanilla_Viterbi_for_Unknown_Words(sample_test_tagged_words)\n",
    "print(\"Tagging sequence with viterbi using only transition probability for unknown words -\\n\\n\", \n",
    "      sample_test_tagged_sequence_unknown_words)\n",
    "\n",
    "print('\\n')\n",
    "print('-'*100)\n",
    "\n",
    "# Method 2 - pos tags with viterbi_backedup_by_trigram_tagger\n",
    "sample_test_tagged_sequence_with_viterbi_trigram = viterbi_backedup_by_trigram_tagger(sample_test_tagged_words)\n",
    "print(\"Tagging sequence with viterbi_backedup_by_trigram_tagger -\\n\\n\", sample_test_tagged_sequence_with_viterbi_trigram)"
   ]
  },
  {
   "cell_type": "code",
   "execution_count": 64,
   "metadata": {},
   "outputs": [
    {
     "data": {
      "text/html": [
       "<div>\n",
       "<style>\n",
       "    .dataframe thead tr:only-child th {\n",
       "        text-align: right;\n",
       "    }\n",
       "\n",
       "    .dataframe thead th {\n",
       "        text-align: left;\n",
       "    }\n",
       "\n",
       "    .dataframe tbody tr th {\n",
       "        vertical-align: top;\n",
       "    }\n",
       "</style>\n",
       "<table border=\"1\" class=\"dataframe\">\n",
       "  <thead>\n",
       "    <tr style=\"text-align: right;\">\n",
       "      <th></th>\n",
       "      <th>actual_tags</th>\n",
       "      <th>as_tagged_by_vanilla_viterbi</th>\n",
       "      <th>as_tagged_by_Vanilla_Viterbi_for_Unknown_Words</th>\n",
       "      <th>as_tagged_by_Vanilla_Viterbi_backed_by_trigram_tagger</th>\n",
       "    </tr>\n",
       "  </thead>\n",
       "  <tbody>\n",
       "    <tr>\n",
       "      <th>0</th>\n",
       "      <td>(Android, NOUN)</td>\n",
       "      <td>(Android, DET)</td>\n",
       "      <td>(Android, NOUN)</td>\n",
       "      <td>(Android, NOUN)</td>\n",
       "    </tr>\n",
       "    <tr>\n",
       "      <th>8</th>\n",
       "      <td>(Google, NOUN)</td>\n",
       "      <td>(Google, DET)</td>\n",
       "      <td>(Google, DET)</td>\n",
       "      <td>(Google, NOUN)</td>\n",
       "    </tr>\n",
       "    <tr>\n",
       "      <th>10</th>\n",
       "      <td>(Android, NOUN)</td>\n",
       "      <td>(Android, DET)</td>\n",
       "      <td>(Android, NOUN)</td>\n",
       "      <td>(Android, NOUN)</td>\n",
       "    </tr>\n",
       "    <tr>\n",
       "      <th>15</th>\n",
       "      <td>(OS, NOUN)</td>\n",
       "      <td>(OS, DET)</td>\n",
       "      <td>(OS, NOUN)</td>\n",
       "      <td>(OS, NOUN)</td>\n",
       "    </tr>\n",
       "    <tr>\n",
       "      <th>16</th>\n",
       "      <td>(worldwide, NOUN)</td>\n",
       "      <td>(worldwide, DET)</td>\n",
       "      <td>(worldwide, NOUN)</td>\n",
       "      <td>(worldwide, NOUN)</td>\n",
       "    </tr>\n",
       "    <tr>\n",
       "      <th>18</th>\n",
       "      <td>(smartphones, NOUN)</td>\n",
       "      <td>(smartphones, DET)</td>\n",
       "      <td>(smartphones, DET)</td>\n",
       "      <td>(smartphones, VERB)</td>\n",
       "    </tr>\n",
       "    <tr>\n",
       "      <th>20</th>\n",
       "      <td>(2011, NUM)</td>\n",
       "      <td>(2011, DET)</td>\n",
       "      <td>(2011, DET)</td>\n",
       "      <td>(2011, NUM)</td>\n",
       "    </tr>\n",
       "    <tr>\n",
       "      <th>25</th>\n",
       "      <td>(2013, NUM)</td>\n",
       "      <td>(2013, DET)</td>\n",
       "      <td>(2013, DET)</td>\n",
       "      <td>(2013, NUM)</td>\n",
       "    </tr>\n",
       "    <tr>\n",
       "      <th>27</th>\n",
       "      <td>(Google, NOUN)</td>\n",
       "      <td>(Google, DET)</td>\n",
       "      <td>(Google, NOUN)</td>\n",
       "      <td>(Google, NOUN)</td>\n",
       "    </tr>\n",
       "    <tr>\n",
       "      <th>29</th>\n",
       "      <td>(Twitter, NOUN)</td>\n",
       "      <td>(Twitter, DET)</td>\n",
       "      <td>(Twitter, NOUN)</td>\n",
       "      <td>(Twitter, NOUN)</td>\n",
       "    </tr>\n",
       "    <tr>\n",
       "      <th>34</th>\n",
       "      <td>(2015, NUM)</td>\n",
       "      <td>(2015, DET)</td>\n",
       "      <td>(2015, DET)</td>\n",
       "      <td>(2015, NUM)</td>\n",
       "    </tr>\n",
       "    <tr>\n",
       "      <th>37</th>\n",
       "      <td>(Google, NOUN)</td>\n",
       "      <td>(Google, DET)</td>\n",
       "      <td>(Google, X)</td>\n",
       "      <td>(Google, NOUN)</td>\n",
       "    </tr>\n",
       "    <tr>\n",
       "      <th>40</th>\n",
       "      <td>(Twitter, NOUN)</td>\n",
       "      <td>(Twitter, DET)</td>\n",
       "      <td>(Twitter, VERB)</td>\n",
       "      <td>(Twitter, NOUN)</td>\n",
       "    </tr>\n",
       "    <tr>\n",
       "      <th>41</th>\n",
       "      <td>('s, PRT)</td>\n",
       "      <td>('s, VERB)</td>\n",
       "      <td>('s, PRT)</td>\n",
       "      <td>('s, PRT)</td>\n",
       "    </tr>\n",
       "    <tr>\n",
       "      <th>42</th>\n",
       "      <td>(firehose, NOUN)</td>\n",
       "      <td>(firehose, DET)</td>\n",
       "      <td>(firehose, VERB)</td>\n",
       "      <td>(firehose, NOUN)</td>\n",
       "    </tr>\n",
       "    <tr>\n",
       "      <th>44</th>\n",
       "      <td>(Twitter, NOUN)</td>\n",
       "      <td>(Twitter, DET)</td>\n",
       "      <td>(Twitter, NOUN)</td>\n",
       "      <td>(Twitter, NOUN)</td>\n",
       "    </tr>\n",
       "    <tr>\n",
       "      <th>47</th>\n",
       "      <td>(online, ADJ)</td>\n",
       "      <td>(online, DET)</td>\n",
       "      <td>(online, NOUN)</td>\n",
       "      <td>(online, NOUN)</td>\n",
       "    </tr>\n",
       "    <tr>\n",
       "      <th>58</th>\n",
       "      <td>(interact, NOUN)</td>\n",
       "      <td>(interact, DET)</td>\n",
       "      <td>(interact, NOUN)</td>\n",
       "      <td>(interact, NOUN)</td>\n",
       "    </tr>\n",
       "    <tr>\n",
       "      <th>60</th>\n",
       "      <td>(messages, NOUN)</td>\n",
       "      <td>(messages, DET)</td>\n",
       "      <td>(messages, DET)</td>\n",
       "      <td>(messages, VERB)</td>\n",
       "    </tr>\n",
       "    <tr>\n",
       "      <th>63</th>\n",
       "      <td>(tweets, NOUN)</td>\n",
       "      <td>(tweets, DET)</td>\n",
       "      <td>(tweets, DET)</td>\n",
       "      <td>(tweets, NOUN)</td>\n",
       "    </tr>\n",
       "    <tr>\n",
       "      <th>73</th>\n",
       "      <td>(domineering, ADJ)</td>\n",
       "      <td>(domineering, DET)</td>\n",
       "      <td>(domineering, NOUN)</td>\n",
       "      <td>(domineering, VERB)</td>\n",
       "    </tr>\n",
       "    <tr>\n",
       "      <th>78</th>\n",
       "      <td>(personality, NOUN)</td>\n",
       "      <td>(personality, DET)</td>\n",
       "      <td>(personality, NOUN)</td>\n",
       "      <td>(personality, NOUN)</td>\n",
       "    </tr>\n",
       "    <tr>\n",
       "      <th>81</th>\n",
       "      <td>(2018, NUM)</td>\n",
       "      <td>(2018, DET)</td>\n",
       "      <td>(2018, NOUN)</td>\n",
       "      <td>(2018, NUM)</td>\n",
       "    </tr>\n",
       "    <tr>\n",
       "      <th>82</th>\n",
       "      <td>(FIFA, NOUN)</td>\n",
       "      <td>(FIFA, DET)</td>\n",
       "      <td>(FIFA, NOUN)</td>\n",
       "      <td>(FIFA, NOUN)</td>\n",
       "    </tr>\n",
       "    <tr>\n",
       "      <th>84</th>\n",
       "      <td>(Cup, NOUN)</td>\n",
       "      <td>(Cup, DET)</td>\n",
       "      <td>(Cup, NOUN)</td>\n",
       "      <td>(Cup, NOUN)</td>\n",
       "    </tr>\n",
       "    <tr>\n",
       "      <th>87</th>\n",
       "      <td>(21st, NUM)</td>\n",
       "      <td>(21st, DET)</td>\n",
       "      <td>(21st, NOUN)</td>\n",
       "      <td>(21st, NUM)</td>\n",
       "    </tr>\n",
       "    <tr>\n",
       "      <th>88</th>\n",
       "      <td>(FIFA, NOUN)</td>\n",
       "      <td>(FIFA, DET)</td>\n",
       "      <td>(FIFA, NOUN)</td>\n",
       "      <td>(FIFA, NOUN)</td>\n",
       "    </tr>\n",
       "    <tr>\n",
       "      <th>90</th>\n",
       "      <td>(Cup, NOUN)</td>\n",
       "      <td>(Cup, DET)</td>\n",
       "      <td>(Cup, NOUN)</td>\n",
       "      <td>(Cup, NOUN)</td>\n",
       "    </tr>\n",
       "    <tr>\n",
       "      <th>95</th>\n",
       "      <td>(tournament, NOUN)</td>\n",
       "      <td>(tournament, DET)</td>\n",
       "      <td>(tournament, NOUN)</td>\n",
       "      <td>(tournament, NOUN)</td>\n",
       "    </tr>\n",
       "    <tr>\n",
       "      <th>96</th>\n",
       "      <td>(contested, VERB)</td>\n",
       "      <td>(contested, DET)</td>\n",
       "      <td>(contested, NOUN)</td>\n",
       "      <td>(contested, VERB)</td>\n",
       "    </tr>\n",
       "    <tr>\n",
       "      <th>107</th>\n",
       "      <td>(Cup, NOUN)</td>\n",
       "      <td>(Cup, DET)</td>\n",
       "      <td>(Cup, NOUN)</td>\n",
       "      <td>(Cup, NOUN)</td>\n",
       "    </tr>\n",
       "    <tr>\n",
       "      <th>131</th>\n",
       "      <td>(trips, NOUN)</td>\n",
       "      <td>(trips, DET)</td>\n",
       "      <td>(trips, NOUN)</td>\n",
       "      <td>(trips, NOUN)</td>\n",
       "    </tr>\n",
       "    <tr>\n",
       "      <th>163</th>\n",
       "      <td>(arriving, NOUN)</td>\n",
       "      <td>(arriving, DET)</td>\n",
       "      <td>(arriving, NOUN)</td>\n",
       "      <td>(arriving, VERB)</td>\n",
       "    </tr>\n",
       "    <tr>\n",
       "      <th>168</th>\n",
       "      <td>(NASA, NOUN)</td>\n",
       "      <td>(NASA, DET)</td>\n",
       "      <td>(NASA, NOUN)</td>\n",
       "      <td>(NASA, NOUN)</td>\n",
       "    </tr>\n",
       "    <tr>\n",
       "      <th>169</th>\n",
       "      <td>(invited, VERB)</td>\n",
       "      <td>(invited, DET)</td>\n",
       "      <td>(invited, NOUN)</td>\n",
       "      <td>(invited, VERB)</td>\n",
       "    </tr>\n",
       "    <tr>\n",
       "      <th>178</th>\n",
       "      <td>(ICESAT-2, NOUN)</td>\n",
       "      <td>(ICESAT-2, DET)</td>\n",
       "      <td>(ICESAT-2, DET)</td>\n",
       "      <td>(ICESAT-2, NOUN)</td>\n",
       "    </tr>\n",
       "    <tr>\n",
       "      <th>179</th>\n",
       "      <td>(Satellite, NOUN)</td>\n",
       "      <td>(Satellite, DET)</td>\n",
       "      <td>(Satellite, NOUN)</td>\n",
       "      <td>(Satellite, NOUN)</td>\n",
       "    </tr>\n",
       "  </tbody>\n",
       "</table>\n",
       "</div>"
      ],
      "text/plain": [
       "             actual_tags as_tagged_by_vanilla_viterbi  \\\n",
       "0        (Android, NOUN)               (Android, DET)   \n",
       "8         (Google, NOUN)                (Google, DET)   \n",
       "10       (Android, NOUN)               (Android, DET)   \n",
       "15            (OS, NOUN)                    (OS, DET)   \n",
       "16     (worldwide, NOUN)             (worldwide, DET)   \n",
       "18   (smartphones, NOUN)           (smartphones, DET)   \n",
       "20           (2011, NUM)                  (2011, DET)   \n",
       "25           (2013, NUM)                  (2013, DET)   \n",
       "27        (Google, NOUN)                (Google, DET)   \n",
       "29       (Twitter, NOUN)               (Twitter, DET)   \n",
       "34           (2015, NUM)                  (2015, DET)   \n",
       "37        (Google, NOUN)                (Google, DET)   \n",
       "40       (Twitter, NOUN)               (Twitter, DET)   \n",
       "41             ('s, PRT)                   ('s, VERB)   \n",
       "42      (firehose, NOUN)              (firehose, DET)   \n",
       "44       (Twitter, NOUN)               (Twitter, DET)   \n",
       "47         (online, ADJ)                (online, DET)   \n",
       "58      (interact, NOUN)              (interact, DET)   \n",
       "60      (messages, NOUN)              (messages, DET)   \n",
       "63        (tweets, NOUN)                (tweets, DET)   \n",
       "73    (domineering, ADJ)           (domineering, DET)   \n",
       "78   (personality, NOUN)           (personality, DET)   \n",
       "81           (2018, NUM)                  (2018, DET)   \n",
       "82          (FIFA, NOUN)                  (FIFA, DET)   \n",
       "84           (Cup, NOUN)                   (Cup, DET)   \n",
       "87           (21st, NUM)                  (21st, DET)   \n",
       "88          (FIFA, NOUN)                  (FIFA, DET)   \n",
       "90           (Cup, NOUN)                   (Cup, DET)   \n",
       "95    (tournament, NOUN)            (tournament, DET)   \n",
       "96     (contested, VERB)             (contested, DET)   \n",
       "107          (Cup, NOUN)                   (Cup, DET)   \n",
       "131        (trips, NOUN)                 (trips, DET)   \n",
       "163     (arriving, NOUN)              (arriving, DET)   \n",
       "168         (NASA, NOUN)                  (NASA, DET)   \n",
       "169      (invited, VERB)               (invited, DET)   \n",
       "178     (ICESAT-2, NOUN)              (ICESAT-2, DET)   \n",
       "179    (Satellite, NOUN)             (Satellite, DET)   \n",
       "\n",
       "    as_tagged_by_Vanilla_Viterbi_for_Unknown_Words  \\\n",
       "0                                  (Android, NOUN)   \n",
       "8                                    (Google, DET)   \n",
       "10                                 (Android, NOUN)   \n",
       "15                                      (OS, NOUN)   \n",
       "16                               (worldwide, NOUN)   \n",
       "18                              (smartphones, DET)   \n",
       "20                                     (2011, DET)   \n",
       "25                                     (2013, DET)   \n",
       "27                                  (Google, NOUN)   \n",
       "29                                 (Twitter, NOUN)   \n",
       "34                                     (2015, DET)   \n",
       "37                                     (Google, X)   \n",
       "40                                 (Twitter, VERB)   \n",
       "41                                       ('s, PRT)   \n",
       "42                                (firehose, VERB)   \n",
       "44                                 (Twitter, NOUN)   \n",
       "47                                  (online, NOUN)   \n",
       "58                                (interact, NOUN)   \n",
       "60                                 (messages, DET)   \n",
       "63                                   (tweets, DET)   \n",
       "73                             (domineering, NOUN)   \n",
       "78                             (personality, NOUN)   \n",
       "81                                    (2018, NOUN)   \n",
       "82                                    (FIFA, NOUN)   \n",
       "84                                     (Cup, NOUN)   \n",
       "87                                    (21st, NOUN)   \n",
       "88                                    (FIFA, NOUN)   \n",
       "90                                     (Cup, NOUN)   \n",
       "95                              (tournament, NOUN)   \n",
       "96                               (contested, NOUN)   \n",
       "107                                    (Cup, NOUN)   \n",
       "131                                  (trips, NOUN)   \n",
       "163                               (arriving, NOUN)   \n",
       "168                                   (NASA, NOUN)   \n",
       "169                                (invited, NOUN)   \n",
       "178                                (ICESAT-2, DET)   \n",
       "179                              (Satellite, NOUN)   \n",
       "\n",
       "    as_tagged_by_Vanilla_Viterbi_backed_by_trigram_tagger  \n",
       "0                                      (Android, NOUN)     \n",
       "8                                       (Google, NOUN)     \n",
       "10                                     (Android, NOUN)     \n",
       "15                                          (OS, NOUN)     \n",
       "16                                   (worldwide, NOUN)     \n",
       "18                                 (smartphones, VERB)     \n",
       "20                                         (2011, NUM)     \n",
       "25                                         (2013, NUM)     \n",
       "27                                      (Google, NOUN)     \n",
       "29                                     (Twitter, NOUN)     \n",
       "34                                         (2015, NUM)     \n",
       "37                                      (Google, NOUN)     \n",
       "40                                     (Twitter, NOUN)     \n",
       "41                                           ('s, PRT)     \n",
       "42                                    (firehose, NOUN)     \n",
       "44                                     (Twitter, NOUN)     \n",
       "47                                      (online, NOUN)     \n",
       "58                                    (interact, NOUN)     \n",
       "60                                    (messages, VERB)     \n",
       "63                                      (tweets, NOUN)     \n",
       "73                                 (domineering, VERB)     \n",
       "78                                 (personality, NOUN)     \n",
       "81                                         (2018, NUM)     \n",
       "82                                        (FIFA, NOUN)     \n",
       "84                                         (Cup, NOUN)     \n",
       "87                                         (21st, NUM)     \n",
       "88                                        (FIFA, NOUN)     \n",
       "90                                         (Cup, NOUN)     \n",
       "95                                  (tournament, NOUN)     \n",
       "96                                   (contested, VERB)     \n",
       "107                                        (Cup, NOUN)     \n",
       "131                                      (trips, NOUN)     \n",
       "163                                   (arriving, VERB)     \n",
       "168                                       (NASA, NOUN)     \n",
       "169                                    (invited, VERB)     \n",
       "178                                   (ICESAT-2, NOUN)     \n",
       "179                                  (Satellite, NOUN)     "
      ]
     },
     "execution_count": 64,
     "metadata": {},
     "output_type": "execute_result"
    }
   ],
   "source": [
    "# A dataframe showing - \n",
    "# 1. the actual tags using nltk.pos_tag_sent\n",
    "# 2. words as tagged by vanilla viterbi\n",
    "# 3. words as tagged by Vanilla_Viterbi_for_Unknown_Words - METHOD - 1\n",
    "# 4. words as tagged by viterbi_backedup_by_trigram_tagger - METHOD - 2\n",
    "\n",
    "cols1 = ['actual_tags', 'as_tagged_by_vanilla_viterbi', 'as_tagged_by_Vanilla_Viterbi_for_Unknown_Words',\n",
    "            'as_tagged_by_Vanilla_Viterbi_backed_by_trigram_tagger']\n",
    "\n",
    "tags_comparison_df = pd.DataFrame(columns = cols1)\n",
    "tags_comparison_df = tags_comparison_df.fillna(0)\n",
    "\n",
    "# Actual tags\n",
    "tags_comparison_df.actual_tags = [tup for tup in sample_test_test_run_base]\n",
    "\n",
    "# tags by vanilla viterbi\n",
    "tags_comparison_df.as_tagged_by_vanilla_viterbi = [tup for tup in sample_test_tagged_sequence_with_vanilla_viterbi]\n",
    "\n",
    "# tags by Vanilla_Viterbi_for_Unknown_Words - METHOD - 1\n",
    "tags_comparison_df.as_tagged_by_Vanilla_Viterbi_for_Unknown_Words = [tup for tup in sample_test_tagged_sequence_unknown_words]\n",
    "\n",
    "# tags by viterbi_backedup_by_trigram_tagger - METHOD - 2\n",
    "tags_comparison_df.as_tagged_by_Vanilla_Viterbi_backed_by_trigram_tagger = [tup for tup in \n",
    "                                                                            sample_test_tagged_sequence_with_viterbi_trigram]\n",
    "\n",
    "tags_comparison_df[tags_comparison_df.as_tagged_by_vanilla_viterbi != \n",
    "                   tags_comparison_df.as_tagged_by_Vanilla_Viterbi_backed_by_trigram_tagger]"
   ]
  },
  {
   "cell_type": "markdown",
   "metadata": {},
   "source": [
    "<font color = Green> \n",
    "<b> <u> Conclusion - </b> </u> <br>\n",
    "Most of the words that were incorrectly tagged by the Vanilla Viterbi Algorithm were corrected by the Viterbi Algorithm backed up by the Trigram tagger.\n",
    "\n",
    "In this analysis we used 2 modification techniques for the original vanilla viterbi -\n",
    "<br> <u> Method 1 - </u> \n",
    "- We used Vanilla Viterbi Algorithm after modification which performs better than the original vanilla viterbi algorithm\n",
    "- Backing the above algorithm wth Unigram, Bigram, Trigram Tagger increased the accuracy further.\n",
    "\n",
    "<br> <u> Method 2 - </u>\n",
    "- We used the viterbi algorithm and backed it up with the trigram tagger which was inturn backed up by the rule based \n",
    "regex tagger.\n",
    "- This gave us a better accuracy on the test data. Also on testing this model on the provided sample test data, it achieved a better accuracy."
   ]
  },
  {
   "cell_type": "code",
   "execution_count": null,
   "metadata": {
    "collapsed": true
   },
   "outputs": [],
   "source": []
  }
 ],
 "metadata": {
  "kernelspec": {
   "display_name": "Python 3",
   "language": "python",
   "name": "python3"
  },
  "language_info": {
   "codemirror_mode": {
    "name": "ipython",
    "version": 3
   },
   "file_extension": ".py",
   "mimetype": "text/x-python",
   "name": "python",
   "nbconvert_exporter": "python",
   "pygments_lexer": "ipython3",
   "version": "3.6.3"
  }
 },
 "nbformat": 4,
 "nbformat_minor": 2
}
